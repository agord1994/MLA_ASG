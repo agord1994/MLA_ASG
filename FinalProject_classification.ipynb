{
  "nbformat": 4,
  "nbformat_minor": 0,
  "metadata": {
    "colab": {
      "name": "FinalProject_classification.ipynb",
      "provenance": [],
      "collapsed_sections": [],
      "authorship_tag": "ABX9TyO82qD2s1DwHhvjKax3fHCZ",
      "include_colab_link": true
    },
    "kernelspec": {
      "name": "python3",
      "display_name": "Python 3"
    },
    "language_info": {
      "name": "python"
    }
  },
  "cells": [
    {
      "cell_type": "markdown",
      "metadata": {
        "id": "view-in-github",
        "colab_type": "text"
      },
      "source": [
        "<a href=\"https://colab.research.google.com/github/agord1994/MLA_ASG/blob/main/FinalProject_classification.ipynb\" target=\"_parent\"><img src=\"https://colab.research.google.com/assets/colab-badge.svg\" alt=\"Open In Colab\"/></a>"
      ]
    },
    {
      "cell_type": "markdown",
      "source": [
        "Data Source Link: https://www.kaggle.com/datasets/mirichoi0218/insurance"
      ],
      "metadata": {
        "id": "XxPazEgG7Ywj"
      }
    },
    {
      "cell_type": "markdown",
      "source": [
        "\n",
        "# Machine Learning Assignment-Final Project#  \n",
        "**Andrew Gordon**  "
      ],
      "metadata": {
        "id": "qMGrU08m7Q0h"
      }
    },
    {
      "cell_type": "markdown",
      "source": [
        "## Standard Imports"
      ],
      "metadata": {
        "id": "FA8QaSpo7axq"
      }
    },
    {
      "cell_type": "code",
      "source": [
        "import pandas as pd\n",
        "import numpy as np\n",
        "import matplotlib.pyplot as plt\n",
        "import seaborn as sns\n",
        "%matplotlib inline"
      ],
      "metadata": {
        "id": "SxLOQHqC7dEB"
      },
      "execution_count": null,
      "outputs": []
    },
    {
      "cell_type": "code",
      "source": [
        "from google.colab import drive\n",
        "drive.mount('/content/gdrive')"
      ],
      "metadata": {
        "colab": {
          "base_uri": "https://localhost:8080/"
        },
        "id": "nkpIggzk7exa",
        "outputId": "aed6486e-cf58-470f-86c9-c327b4cf83f3"
      },
      "execution_count": null,
      "outputs": [
        {
          "output_type": "stream",
          "name": "stdout",
          "text": [
            "Drive already mounted at /content/gdrive; to attempt to forcibly remount, call drive.mount(\"/content/gdrive\", force_remount=True).\n"
          ]
        }
      ]
    },
    {
      "cell_type": "markdown",
      "source": [
        "## Imports for specific models\n",
        "In this section, you will import the models from SKLearn that you will use this in this notebook. "
      ],
      "metadata": {
        "id": "h10FfPex7vLs"
      }
    },
    {
      "cell_type": "code",
      "source": [
        "from sklearn.linear_model import LogisticRegression\n",
        "from sklearn import tree\n",
        "from sklearn.tree import export_text"
      ],
      "metadata": {
        "id": "oDI7YXDm7xT6"
      },
      "execution_count": null,
      "outputs": []
    },
    {
      "cell_type": "markdown",
      "source": [
        "## Imports for Splitting Data and Building Pipeline"
      ],
      "metadata": {
        "id": "OmZYctt375-G"
      }
    },
    {
      "cell_type": "code",
      "source": [
        "from sklearn.model_selection import train_test_split\n",
        "\n",
        "from sklearn.pipeline import Pipeline\n",
        "from sklearn import set_config\n",
        "set_config(display='diagram')\n",
        "from sklearn.model_selection import GridSearchCV\n",
        "from sklearn.compose import ColumnTransformer\n",
        "from sklearn.preprocessing import MinMaxScaler\n",
        "from sklearn.preprocessing import OneHotEncoder"
      ],
      "metadata": {
        "id": "qm1QcGW975J6"
      },
      "execution_count": null,
      "outputs": []
    },
    {
      "cell_type": "markdown",
      "source": [
        "# Imports for Performance Measures"
      ],
      "metadata": {
        "id": "EXouuhJN7-RV"
      }
    },
    {
      "cell_type": "code",
      "source": [
        "from sklearn.metrics import confusion_matrix\n",
        "from sklearn.metrics import precision_score, recall_score, f1_score\n",
        "from sklearn.metrics import roc_curve\n",
        "from sklearn.metrics import roc_auc_score\n",
        "from sklearn.metrics import r2_score\n",
        "from sklearn.metrics import mean_squared_error\n",
        "from sklearn.metrics import precision_recall_curve\n",
        "from sklearn.metrics import auc\n",
        "from sklearn.metrics import classification_report\n",
        "from sklearn.metrics import ConfusionMatrixDisplay"
      ],
      "metadata": {
        "id": "oiyFb27e8FN4"
      },
      "execution_count": null,
      "outputs": []
    },
    {
      "cell_type": "code",
      "source": [
        "def plot_cm(y_test, y_pred):\n",
        "    cm = confusion_matrix(y_test,y_pred)\n",
        "    fig = plt.figure(figsize=(10,10))\n",
        "    heatmap = sns.heatmap(cm, annot=True, fmt='.2f', cmap='RdYlGn')\n",
        "    plt.ylabel('True label')\n",
        "    plt.xlabel('Predicted Label')"
      ],
      "metadata": {
        "id": "LririEi38FTg"
      },
      "execution_count": null,
      "outputs": []
    },
    {
      "cell_type": "code",
      "source": [
        "def plot_roc_curve(fpr,tpr):\n",
        "  plt.plot(fpr, tpr, linewidth=2)\n",
        "  plt.plot([0,1],[0,1], 'k--')\n",
        "  plt.xlim([0.0, 1.0])\n",
        "  plt.ylim([0.0, 1.0])"
      ],
      "metadata": {
        "id": "J7AmIkYv9Hrd"
      },
      "execution_count": null,
      "outputs": []
    },
    {
      "cell_type": "markdown",
      "source": [
        "###Logistic Regression"
      ],
      "metadata": {
        "id": "6hVehiKZ9Mpg"
      }
    },
    {
      "cell_type": "code",
      "source": [
        "hospital_df=pd.read_csv('/content/gdrive/MyDrive/CS430/insurance.csv')"
      ],
      "metadata": {
        "id": "BxhoHqAp9QSd"
      },
      "execution_count": null,
      "outputs": []
    },
    {
      "cell_type": "markdown",
      "source": [
        "### Statistical and Visual Exploration"
      ],
      "metadata": {
        "id": "DQGTYPXI99Sd"
      }
    },
    {
      "cell_type": "code",
      "source": [
        "hospital_df.head()"
      ],
      "metadata": {
        "colab": {
          "base_uri": "https://localhost:8080/",
          "height": 206
        },
        "id": "Wv90AYSn9_mP",
        "outputId": "c5df8820-8164-44d9-9b79-0caf39662acf"
      },
      "execution_count": null,
      "outputs": [
        {
          "output_type": "execute_result",
          "data": {
            "text/plain": [
              "   age     sex     bmi  children smoker     region      charges\n",
              "0   19  female  27.900         0    yes  southwest  16884.92400\n",
              "1   18    male  33.770         1     no  southeast   1725.55230\n",
              "2   28    male  33.000         3     no  southeast   4449.46200\n",
              "3   33    male  22.705         0     no  northwest  21984.47061\n",
              "4   32    male  28.880         0     no  northwest   3866.85520"
            ],
            "text/html": [
              "\n",
              "  <div id=\"df-846c08f3-f9bf-4133-809c-da90b3cc537c\">\n",
              "    <div class=\"colab-df-container\">\n",
              "      <div>\n",
              "<style scoped>\n",
              "    .dataframe tbody tr th:only-of-type {\n",
              "        vertical-align: middle;\n",
              "    }\n",
              "\n",
              "    .dataframe tbody tr th {\n",
              "        vertical-align: top;\n",
              "    }\n",
              "\n",
              "    .dataframe thead th {\n",
              "        text-align: right;\n",
              "    }\n",
              "</style>\n",
              "<table border=\"1\" class=\"dataframe\">\n",
              "  <thead>\n",
              "    <tr style=\"text-align: right;\">\n",
              "      <th></th>\n",
              "      <th>age</th>\n",
              "      <th>sex</th>\n",
              "      <th>bmi</th>\n",
              "      <th>children</th>\n",
              "      <th>smoker</th>\n",
              "      <th>region</th>\n",
              "      <th>charges</th>\n",
              "    </tr>\n",
              "  </thead>\n",
              "  <tbody>\n",
              "    <tr>\n",
              "      <th>0</th>\n",
              "      <td>19</td>\n",
              "      <td>female</td>\n",
              "      <td>27.900</td>\n",
              "      <td>0</td>\n",
              "      <td>yes</td>\n",
              "      <td>southwest</td>\n",
              "      <td>16884.92400</td>\n",
              "    </tr>\n",
              "    <tr>\n",
              "      <th>1</th>\n",
              "      <td>18</td>\n",
              "      <td>male</td>\n",
              "      <td>33.770</td>\n",
              "      <td>1</td>\n",
              "      <td>no</td>\n",
              "      <td>southeast</td>\n",
              "      <td>1725.55230</td>\n",
              "    </tr>\n",
              "    <tr>\n",
              "      <th>2</th>\n",
              "      <td>28</td>\n",
              "      <td>male</td>\n",
              "      <td>33.000</td>\n",
              "      <td>3</td>\n",
              "      <td>no</td>\n",
              "      <td>southeast</td>\n",
              "      <td>4449.46200</td>\n",
              "    </tr>\n",
              "    <tr>\n",
              "      <th>3</th>\n",
              "      <td>33</td>\n",
              "      <td>male</td>\n",
              "      <td>22.705</td>\n",
              "      <td>0</td>\n",
              "      <td>no</td>\n",
              "      <td>northwest</td>\n",
              "      <td>21984.47061</td>\n",
              "    </tr>\n",
              "    <tr>\n",
              "      <th>4</th>\n",
              "      <td>32</td>\n",
              "      <td>male</td>\n",
              "      <td>28.880</td>\n",
              "      <td>0</td>\n",
              "      <td>no</td>\n",
              "      <td>northwest</td>\n",
              "      <td>3866.85520</td>\n",
              "    </tr>\n",
              "  </tbody>\n",
              "</table>\n",
              "</div>\n",
              "      <button class=\"colab-df-convert\" onclick=\"convertToInteractive('df-846c08f3-f9bf-4133-809c-da90b3cc537c')\"\n",
              "              title=\"Convert this dataframe to an interactive table.\"\n",
              "              style=\"display:none;\">\n",
              "        \n",
              "  <svg xmlns=\"http://www.w3.org/2000/svg\" height=\"24px\"viewBox=\"0 0 24 24\"\n",
              "       width=\"24px\">\n",
              "    <path d=\"M0 0h24v24H0V0z\" fill=\"none\"/>\n",
              "    <path d=\"M18.56 5.44l.94 2.06.94-2.06 2.06-.94-2.06-.94-.94-2.06-.94 2.06-2.06.94zm-11 1L8.5 8.5l.94-2.06 2.06-.94-2.06-.94L8.5 2.5l-.94 2.06-2.06.94zm10 10l.94 2.06.94-2.06 2.06-.94-2.06-.94-.94-2.06-.94 2.06-2.06.94z\"/><path d=\"M17.41 7.96l-1.37-1.37c-.4-.4-.92-.59-1.43-.59-.52 0-1.04.2-1.43.59L10.3 9.45l-7.72 7.72c-.78.78-.78 2.05 0 2.83L4 21.41c.39.39.9.59 1.41.59.51 0 1.02-.2 1.41-.59l7.78-7.78 2.81-2.81c.8-.78.8-2.07 0-2.86zM5.41 20L4 18.59l7.72-7.72 1.47 1.35L5.41 20z\"/>\n",
              "  </svg>\n",
              "      </button>\n",
              "      \n",
              "  <style>\n",
              "    .colab-df-container {\n",
              "      display:flex;\n",
              "      flex-wrap:wrap;\n",
              "      gap: 12px;\n",
              "    }\n",
              "\n",
              "    .colab-df-convert {\n",
              "      background-color: #E8F0FE;\n",
              "      border: none;\n",
              "      border-radius: 50%;\n",
              "      cursor: pointer;\n",
              "      display: none;\n",
              "      fill: #1967D2;\n",
              "      height: 32px;\n",
              "      padding: 0 0 0 0;\n",
              "      width: 32px;\n",
              "    }\n",
              "\n",
              "    .colab-df-convert:hover {\n",
              "      background-color: #E2EBFA;\n",
              "      box-shadow: 0px 1px 2px rgba(60, 64, 67, 0.3), 0px 1px 3px 1px rgba(60, 64, 67, 0.15);\n",
              "      fill: #174EA6;\n",
              "    }\n",
              "\n",
              "    [theme=dark] .colab-df-convert {\n",
              "      background-color: #3B4455;\n",
              "      fill: #D2E3FC;\n",
              "    }\n",
              "\n",
              "    [theme=dark] .colab-df-convert:hover {\n",
              "      background-color: #434B5C;\n",
              "      box-shadow: 0px 1px 3px 1px rgba(0, 0, 0, 0.15);\n",
              "      filter: drop-shadow(0px 1px 2px rgba(0, 0, 0, 0.3));\n",
              "      fill: #FFFFFF;\n",
              "    }\n",
              "  </style>\n",
              "\n",
              "      <script>\n",
              "        const buttonEl =\n",
              "          document.querySelector('#df-846c08f3-f9bf-4133-809c-da90b3cc537c button.colab-df-convert');\n",
              "        buttonEl.style.display =\n",
              "          google.colab.kernel.accessAllowed ? 'block' : 'none';\n",
              "\n",
              "        async function convertToInteractive(key) {\n",
              "          const element = document.querySelector('#df-846c08f3-f9bf-4133-809c-da90b3cc537c');\n",
              "          const dataTable =\n",
              "            await google.colab.kernel.invokeFunction('convertToInteractive',\n",
              "                                                     [key], {});\n",
              "          if (!dataTable) return;\n",
              "\n",
              "          const docLinkHtml = 'Like what you see? Visit the ' +\n",
              "            '<a target=\"_blank\" href=https://colab.research.google.com/notebooks/data_table.ipynb>data table notebook</a>'\n",
              "            + ' to learn more about interactive tables.';\n",
              "          element.innerHTML = '';\n",
              "          dataTable['output_type'] = 'display_data';\n",
              "          await google.colab.output.renderOutput(dataTable, element);\n",
              "          const docLink = document.createElement('div');\n",
              "          docLink.innerHTML = docLinkHtml;\n",
              "          element.appendChild(docLink);\n",
              "        }\n",
              "      </script>\n",
              "    </div>\n",
              "  </div>\n",
              "  "
            ]
          },
          "metadata": {},
          "execution_count": 910
        }
      ]
    },
    {
      "cell_type": "code",
      "source": [
        "hospital_df.describe()"
      ],
      "metadata": {
        "colab": {
          "base_uri": "https://localhost:8080/",
          "height": 300
        },
        "id": "H-VI74lB-Khg",
        "outputId": "e9118127-8187-4132-f930-2d80659b0dfa"
      },
      "execution_count": null,
      "outputs": [
        {
          "output_type": "execute_result",
          "data": {
            "text/plain": [
              "               age          bmi     children       charges\n",
              "count  1338.000000  1338.000000  1338.000000   1338.000000\n",
              "mean     39.207025    30.663397     1.094918  13270.422265\n",
              "std      14.049960     6.098187     1.205493  12110.011237\n",
              "min      18.000000    15.960000     0.000000   1121.873900\n",
              "25%      27.000000    26.296250     0.000000   4740.287150\n",
              "50%      39.000000    30.400000     1.000000   9382.033000\n",
              "75%      51.000000    34.693750     2.000000  16639.912515\n",
              "max      64.000000    53.130000     5.000000  63770.428010"
            ],
            "text/html": [
              "\n",
              "  <div id=\"df-ee818824-9503-470d-a609-1927c345a732\">\n",
              "    <div class=\"colab-df-container\">\n",
              "      <div>\n",
              "<style scoped>\n",
              "    .dataframe tbody tr th:only-of-type {\n",
              "        vertical-align: middle;\n",
              "    }\n",
              "\n",
              "    .dataframe tbody tr th {\n",
              "        vertical-align: top;\n",
              "    }\n",
              "\n",
              "    .dataframe thead th {\n",
              "        text-align: right;\n",
              "    }\n",
              "</style>\n",
              "<table border=\"1\" class=\"dataframe\">\n",
              "  <thead>\n",
              "    <tr style=\"text-align: right;\">\n",
              "      <th></th>\n",
              "      <th>age</th>\n",
              "      <th>bmi</th>\n",
              "      <th>children</th>\n",
              "      <th>charges</th>\n",
              "    </tr>\n",
              "  </thead>\n",
              "  <tbody>\n",
              "    <tr>\n",
              "      <th>count</th>\n",
              "      <td>1338.000000</td>\n",
              "      <td>1338.000000</td>\n",
              "      <td>1338.000000</td>\n",
              "      <td>1338.000000</td>\n",
              "    </tr>\n",
              "    <tr>\n",
              "      <th>mean</th>\n",
              "      <td>39.207025</td>\n",
              "      <td>30.663397</td>\n",
              "      <td>1.094918</td>\n",
              "      <td>13270.422265</td>\n",
              "    </tr>\n",
              "    <tr>\n",
              "      <th>std</th>\n",
              "      <td>14.049960</td>\n",
              "      <td>6.098187</td>\n",
              "      <td>1.205493</td>\n",
              "      <td>12110.011237</td>\n",
              "    </tr>\n",
              "    <tr>\n",
              "      <th>min</th>\n",
              "      <td>18.000000</td>\n",
              "      <td>15.960000</td>\n",
              "      <td>0.000000</td>\n",
              "      <td>1121.873900</td>\n",
              "    </tr>\n",
              "    <tr>\n",
              "      <th>25%</th>\n",
              "      <td>27.000000</td>\n",
              "      <td>26.296250</td>\n",
              "      <td>0.000000</td>\n",
              "      <td>4740.287150</td>\n",
              "    </tr>\n",
              "    <tr>\n",
              "      <th>50%</th>\n",
              "      <td>39.000000</td>\n",
              "      <td>30.400000</td>\n",
              "      <td>1.000000</td>\n",
              "      <td>9382.033000</td>\n",
              "    </tr>\n",
              "    <tr>\n",
              "      <th>75%</th>\n",
              "      <td>51.000000</td>\n",
              "      <td>34.693750</td>\n",
              "      <td>2.000000</td>\n",
              "      <td>16639.912515</td>\n",
              "    </tr>\n",
              "    <tr>\n",
              "      <th>max</th>\n",
              "      <td>64.000000</td>\n",
              "      <td>53.130000</td>\n",
              "      <td>5.000000</td>\n",
              "      <td>63770.428010</td>\n",
              "    </tr>\n",
              "  </tbody>\n",
              "</table>\n",
              "</div>\n",
              "      <button class=\"colab-df-convert\" onclick=\"convertToInteractive('df-ee818824-9503-470d-a609-1927c345a732')\"\n",
              "              title=\"Convert this dataframe to an interactive table.\"\n",
              "              style=\"display:none;\">\n",
              "        \n",
              "  <svg xmlns=\"http://www.w3.org/2000/svg\" height=\"24px\"viewBox=\"0 0 24 24\"\n",
              "       width=\"24px\">\n",
              "    <path d=\"M0 0h24v24H0V0z\" fill=\"none\"/>\n",
              "    <path d=\"M18.56 5.44l.94 2.06.94-2.06 2.06-.94-2.06-.94-.94-2.06-.94 2.06-2.06.94zm-11 1L8.5 8.5l.94-2.06 2.06-.94-2.06-.94L8.5 2.5l-.94 2.06-2.06.94zm10 10l.94 2.06.94-2.06 2.06-.94-2.06-.94-.94-2.06-.94 2.06-2.06.94z\"/><path d=\"M17.41 7.96l-1.37-1.37c-.4-.4-.92-.59-1.43-.59-.52 0-1.04.2-1.43.59L10.3 9.45l-7.72 7.72c-.78.78-.78 2.05 0 2.83L4 21.41c.39.39.9.59 1.41.59.51 0 1.02-.2 1.41-.59l7.78-7.78 2.81-2.81c.8-.78.8-2.07 0-2.86zM5.41 20L4 18.59l7.72-7.72 1.47 1.35L5.41 20z\"/>\n",
              "  </svg>\n",
              "      </button>\n",
              "      \n",
              "  <style>\n",
              "    .colab-df-container {\n",
              "      display:flex;\n",
              "      flex-wrap:wrap;\n",
              "      gap: 12px;\n",
              "    }\n",
              "\n",
              "    .colab-df-convert {\n",
              "      background-color: #E8F0FE;\n",
              "      border: none;\n",
              "      border-radius: 50%;\n",
              "      cursor: pointer;\n",
              "      display: none;\n",
              "      fill: #1967D2;\n",
              "      height: 32px;\n",
              "      padding: 0 0 0 0;\n",
              "      width: 32px;\n",
              "    }\n",
              "\n",
              "    .colab-df-convert:hover {\n",
              "      background-color: #E2EBFA;\n",
              "      box-shadow: 0px 1px 2px rgba(60, 64, 67, 0.3), 0px 1px 3px 1px rgba(60, 64, 67, 0.15);\n",
              "      fill: #174EA6;\n",
              "    }\n",
              "\n",
              "    [theme=dark] .colab-df-convert {\n",
              "      background-color: #3B4455;\n",
              "      fill: #D2E3FC;\n",
              "    }\n",
              "\n",
              "    [theme=dark] .colab-df-convert:hover {\n",
              "      background-color: #434B5C;\n",
              "      box-shadow: 0px 1px 3px 1px rgba(0, 0, 0, 0.15);\n",
              "      filter: drop-shadow(0px 1px 2px rgba(0, 0, 0, 0.3));\n",
              "      fill: #FFFFFF;\n",
              "    }\n",
              "  </style>\n",
              "\n",
              "      <script>\n",
              "        const buttonEl =\n",
              "          document.querySelector('#df-ee818824-9503-470d-a609-1927c345a732 button.colab-df-convert');\n",
              "        buttonEl.style.display =\n",
              "          google.colab.kernel.accessAllowed ? 'block' : 'none';\n",
              "\n",
              "        async function convertToInteractive(key) {\n",
              "          const element = document.querySelector('#df-ee818824-9503-470d-a609-1927c345a732');\n",
              "          const dataTable =\n",
              "            await google.colab.kernel.invokeFunction('convertToInteractive',\n",
              "                                                     [key], {});\n",
              "          if (!dataTable) return;\n",
              "\n",
              "          const docLinkHtml = 'Like what you see? Visit the ' +\n",
              "            '<a target=\"_blank\" href=https://colab.research.google.com/notebooks/data_table.ipynb>data table notebook</a>'\n",
              "            + ' to learn more about interactive tables.';\n",
              "          element.innerHTML = '';\n",
              "          dataTable['output_type'] = 'display_data';\n",
              "          await google.colab.output.renderOutput(dataTable, element);\n",
              "          const docLink = document.createElement('div');\n",
              "          docLink.innerHTML = docLinkHtml;\n",
              "          element.appendChild(docLink);\n",
              "        }\n",
              "      </script>\n",
              "    </div>\n",
              "  </div>\n",
              "  "
            ]
          },
          "metadata": {},
          "execution_count": 911
        }
      ]
    },
    {
      "cell_type": "code",
      "source": [
        "hospital_df.corr()"
      ],
      "metadata": {
        "colab": {
          "base_uri": "https://localhost:8080/",
          "height": 175
        },
        "id": "J0Lv6FsL-SYg",
        "outputId": "c0800709-6ac1-414b-9f52-fe06c1f1eb46"
      },
      "execution_count": null,
      "outputs": [
        {
          "output_type": "execute_result",
          "data": {
            "text/plain": [
              "               age       bmi  children   charges\n",
              "age       1.000000  0.109272  0.042469  0.299008\n",
              "bmi       0.109272  1.000000  0.012759  0.198341\n",
              "children  0.042469  0.012759  1.000000  0.067998\n",
              "charges   0.299008  0.198341  0.067998  1.000000"
            ],
            "text/html": [
              "\n",
              "  <div id=\"df-2d409ac9-49dd-44f2-8134-86c38d78eb15\">\n",
              "    <div class=\"colab-df-container\">\n",
              "      <div>\n",
              "<style scoped>\n",
              "    .dataframe tbody tr th:only-of-type {\n",
              "        vertical-align: middle;\n",
              "    }\n",
              "\n",
              "    .dataframe tbody tr th {\n",
              "        vertical-align: top;\n",
              "    }\n",
              "\n",
              "    .dataframe thead th {\n",
              "        text-align: right;\n",
              "    }\n",
              "</style>\n",
              "<table border=\"1\" class=\"dataframe\">\n",
              "  <thead>\n",
              "    <tr style=\"text-align: right;\">\n",
              "      <th></th>\n",
              "      <th>age</th>\n",
              "      <th>bmi</th>\n",
              "      <th>children</th>\n",
              "      <th>charges</th>\n",
              "    </tr>\n",
              "  </thead>\n",
              "  <tbody>\n",
              "    <tr>\n",
              "      <th>age</th>\n",
              "      <td>1.000000</td>\n",
              "      <td>0.109272</td>\n",
              "      <td>0.042469</td>\n",
              "      <td>0.299008</td>\n",
              "    </tr>\n",
              "    <tr>\n",
              "      <th>bmi</th>\n",
              "      <td>0.109272</td>\n",
              "      <td>1.000000</td>\n",
              "      <td>0.012759</td>\n",
              "      <td>0.198341</td>\n",
              "    </tr>\n",
              "    <tr>\n",
              "      <th>children</th>\n",
              "      <td>0.042469</td>\n",
              "      <td>0.012759</td>\n",
              "      <td>1.000000</td>\n",
              "      <td>0.067998</td>\n",
              "    </tr>\n",
              "    <tr>\n",
              "      <th>charges</th>\n",
              "      <td>0.299008</td>\n",
              "      <td>0.198341</td>\n",
              "      <td>0.067998</td>\n",
              "      <td>1.000000</td>\n",
              "    </tr>\n",
              "  </tbody>\n",
              "</table>\n",
              "</div>\n",
              "      <button class=\"colab-df-convert\" onclick=\"convertToInteractive('df-2d409ac9-49dd-44f2-8134-86c38d78eb15')\"\n",
              "              title=\"Convert this dataframe to an interactive table.\"\n",
              "              style=\"display:none;\">\n",
              "        \n",
              "  <svg xmlns=\"http://www.w3.org/2000/svg\" height=\"24px\"viewBox=\"0 0 24 24\"\n",
              "       width=\"24px\">\n",
              "    <path d=\"M0 0h24v24H0V0z\" fill=\"none\"/>\n",
              "    <path d=\"M18.56 5.44l.94 2.06.94-2.06 2.06-.94-2.06-.94-.94-2.06-.94 2.06-2.06.94zm-11 1L8.5 8.5l.94-2.06 2.06-.94-2.06-.94L8.5 2.5l-.94 2.06-2.06.94zm10 10l.94 2.06.94-2.06 2.06-.94-2.06-.94-.94-2.06-.94 2.06-2.06.94z\"/><path d=\"M17.41 7.96l-1.37-1.37c-.4-.4-.92-.59-1.43-.59-.52 0-1.04.2-1.43.59L10.3 9.45l-7.72 7.72c-.78.78-.78 2.05 0 2.83L4 21.41c.39.39.9.59 1.41.59.51 0 1.02-.2 1.41-.59l7.78-7.78 2.81-2.81c.8-.78.8-2.07 0-2.86zM5.41 20L4 18.59l7.72-7.72 1.47 1.35L5.41 20z\"/>\n",
              "  </svg>\n",
              "      </button>\n",
              "      \n",
              "  <style>\n",
              "    .colab-df-container {\n",
              "      display:flex;\n",
              "      flex-wrap:wrap;\n",
              "      gap: 12px;\n",
              "    }\n",
              "\n",
              "    .colab-df-convert {\n",
              "      background-color: #E8F0FE;\n",
              "      border: none;\n",
              "      border-radius: 50%;\n",
              "      cursor: pointer;\n",
              "      display: none;\n",
              "      fill: #1967D2;\n",
              "      height: 32px;\n",
              "      padding: 0 0 0 0;\n",
              "      width: 32px;\n",
              "    }\n",
              "\n",
              "    .colab-df-convert:hover {\n",
              "      background-color: #E2EBFA;\n",
              "      box-shadow: 0px 1px 2px rgba(60, 64, 67, 0.3), 0px 1px 3px 1px rgba(60, 64, 67, 0.15);\n",
              "      fill: #174EA6;\n",
              "    }\n",
              "\n",
              "    [theme=dark] .colab-df-convert {\n",
              "      background-color: #3B4455;\n",
              "      fill: #D2E3FC;\n",
              "    }\n",
              "\n",
              "    [theme=dark] .colab-df-convert:hover {\n",
              "      background-color: #434B5C;\n",
              "      box-shadow: 0px 1px 3px 1px rgba(0, 0, 0, 0.15);\n",
              "      filter: drop-shadow(0px 1px 2px rgba(0, 0, 0, 0.3));\n",
              "      fill: #FFFFFF;\n",
              "    }\n",
              "  </style>\n",
              "\n",
              "      <script>\n",
              "        const buttonEl =\n",
              "          document.querySelector('#df-2d409ac9-49dd-44f2-8134-86c38d78eb15 button.colab-df-convert');\n",
              "        buttonEl.style.display =\n",
              "          google.colab.kernel.accessAllowed ? 'block' : 'none';\n",
              "\n",
              "        async function convertToInteractive(key) {\n",
              "          const element = document.querySelector('#df-2d409ac9-49dd-44f2-8134-86c38d78eb15');\n",
              "          const dataTable =\n",
              "            await google.colab.kernel.invokeFunction('convertToInteractive',\n",
              "                                                     [key], {});\n",
              "          if (!dataTable) return;\n",
              "\n",
              "          const docLinkHtml = 'Like what you see? Visit the ' +\n",
              "            '<a target=\"_blank\" href=https://colab.research.google.com/notebooks/data_table.ipynb>data table notebook</a>'\n",
              "            + ' to learn more about interactive tables.';\n",
              "          element.innerHTML = '';\n",
              "          dataTable['output_type'] = 'display_data';\n",
              "          await google.colab.output.renderOutput(dataTable, element);\n",
              "          const docLink = document.createElement('div');\n",
              "          docLink.innerHTML = docLinkHtml;\n",
              "          element.appendChild(docLink);\n",
              "        }\n",
              "      </script>\n",
              "    </div>\n",
              "  </div>\n",
              "  "
            ]
          },
          "metadata": {},
          "execution_count": 912
        }
      ]
    },
    {
      "cell_type": "code",
      "source": [
        "sns.pairplot(hospital_df)"
      ],
      "metadata": {
        "colab": {
          "base_uri": "https://localhost:8080/",
          "height": 743
        },
        "id": "iFU_9QOX-Z-i",
        "outputId": "7a69dba6-d38e-4fc1-b2a4-88600830853c"
      },
      "execution_count": null,
      "outputs": [
        {
          "output_type": "execute_result",
          "data": {
            "text/plain": [
              "<seaborn.axisgrid.PairGrid at 0x7f07e89a9150>"
            ]
          },
          "metadata": {},
          "execution_count": 913
        },
        {
          "output_type": "display_data",
          "data": {
            "text/plain": [
              "<Figure size 720x720 with 20 Axes>"
            ],
            "image/png": "[encoded data removed]"
          },
          "metadata": {
            "needs_background": "light"
          }
        }
      ]
    },
    {
      "cell_type": "code",
      "source": [
        "amountofsmoker=hospital_df['smoker'].groupby(hospital_df['smoker']).count()\n",
        "amountofsmoker"
      ],
      "metadata": {
        "colab": {
          "base_uri": "https://localhost:8080/"
        },
        "id": "4XRTD_vY-vh_",
        "outputId": "98d6fb0b-c897-4b31-f138-beab98ef3b81"
      },
      "execution_count": null,
      "outputs": [
        {
          "output_type": "execute_result",
          "data": {
            "text/plain": [
              "smoker\n",
              "no     1064\n",
              "yes     274\n",
              "Name: smoker, dtype: int64"
            ]
          },
          "metadata": {},
          "execution_count": 914
        }
      ]
    },
    {
      "cell_type": "code",
      "source": [
        "amountofsmoker.plot(kind=\"bar\", x=\"smoker\",y=\"amountofsmoker\",xlabel=\"smoker\", ylabel=\"count\", title=\"Count of smokers\",figsize=(10,5))"
      ],
      "metadata": {
        "colab": {
          "base_uri": "https://localhost:8080/",
          "height": 374
        },
        "id": "gXzL4U2a_qaC",
        "outputId": "37109b77-2492-45bc-f297-e56bf45e4df4"
      },
      "execution_count": null,
      "outputs": [
        {
          "output_type": "execute_result",
          "data": {
            "text/plain": [
              "<matplotlib.axes._subplots.AxesSubplot at 0x7f07e82486d0>"
            ]
          },
          "metadata": {},
          "execution_count": 915
        },
        {
          "output_type": "display_data",
          "data": {
            "text/plain": [
              "<Figure size 720x360 with 1 Axes>"
            ],
            "image/png": "[encoded data removed]"
          },
          "metadata": {
            "needs_background": "light"
          }
        }
      ]
    },
    {
      "cell_type": "code",
      "source": [
        "amountofgender=hospital_df['sex'].groupby(hospital_df['sex']).count()\n",
        "amountofgender"
      ],
      "metadata": {
        "colab": {
          "base_uri": "https://localhost:8080/"
        },
        "id": "5ucaq9z7_DSk",
        "outputId": "83dc4d9e-563f-44bd-a111-912631d744a6"
      },
      "execution_count": null,
      "outputs": [
        {
          "output_type": "execute_result",
          "data": {
            "text/plain": [
              "sex\n",
              "female    662\n",
              "male      676\n",
              "Name: sex, dtype: int64"
            ]
          },
          "metadata": {},
          "execution_count": 916
        }
      ]
    },
    {
      "cell_type": "code",
      "source": [
        "amountofgender.plot(kind=\"bar\",color='red', x=\"sex\",y=\"amountofgender\",xlabel=\"sex\", ylabel=\"count\", title=\"Count of Sexes\",figsize=(10,5))"
      ],
      "metadata": {
        "colab": {
          "base_uri": "https://localhost:8080/",
          "height": 391
        },
        "id": "MSYQ7nX8ABhA",
        "outputId": "7604b4b8-3359-42f7-c488-c62bdaa9b582"
      },
      "execution_count": null,
      "outputs": [
        {
          "output_type": "execute_result",
          "data": {
            "text/plain": [
              "<matplotlib.axes._subplots.AxesSubplot at 0x7f07e8156890>"
            ]
          },
          "metadata": {},
          "execution_count": 917
        },
        {
          "output_type": "display_data",
          "data": {
            "text/plain": [
              "<Figure size 720x360 with 1 Axes>"
            ],
            "image/png": "[encoded data removed]"
          },
          "metadata": {
            "needs_background": "light"
          }
        }
      ]
    },
    {
      "cell_type": "code",
      "source": [
        "amountofpeopleinregion=hospital_df['region'].groupby(hospital_df['region']).count()\n",
        "amountofpeopleinregion"
      ],
      "metadata": {
        "colab": {
          "base_uri": "https://localhost:8080/"
        },
        "id": "iukZbCSK_PgT",
        "outputId": "1ccc663f-0593-4d89-bacc-673c231e5128"
      },
      "execution_count": null,
      "outputs": [
        {
          "output_type": "execute_result",
          "data": {
            "text/plain": [
              "region\n",
              "northeast    324\n",
              "northwest    325\n",
              "southeast    364\n",
              "southwest    325\n",
              "Name: region, dtype: int64"
            ]
          },
          "metadata": {},
          "execution_count": 918
        }
      ]
    },
    {
      "cell_type": "code",
      "source": [
        "amountofpeopleinregion.plot(kind=\"bar\",color='green', x=\"region\",y=\"amountofpeopleinregion\",xlabel=\"region\", ylabel=\"count\", title=\"Count of patients in Region\",figsize=(10,5))"
      ],
      "metadata": {
        "colab": {
          "base_uri": "https://localhost:8080/",
          "height": 408
        },
        "id": "ljnuvukaAU19",
        "outputId": "86a182ca-4c55-413f-89cf-734d7b084239"
      },
      "execution_count": null,
      "outputs": [
        {
          "output_type": "execute_result",
          "data": {
            "text/plain": [
              "<matplotlib.axes._subplots.AxesSubplot at 0x7f07e8129710>"
            ]
          },
          "metadata": {},
          "execution_count": 919
        },
        {
          "output_type": "display_data",
          "data": {
            "text/plain": [
              "<Figure size 720x360 with 1 Axes>"
            ],
            "image/png": "[encoded data removed]"
          },
          "metadata": {
            "needs_background": "light"
          }
        }
      ]
    },
    {
      "cell_type": "markdown",
      "source": [
        "### Splitting Data into Train/Test"
      ],
      "metadata": {
        "id": "cBpFx1KlAnBr"
      }
    },
    {
      "cell_type": "code",
      "source": [
        "X=hospital_df[['age','sex','bmi','children','region','charges']] #putting variables into X data frame- leaving off car names because most values are unique\n",
        "y=hospital_df[['smoker']]# putting smoker into y data frame- this is variable we are trying to predict\n"
      ],
      "metadata": {
        "id": "ZvKdVdgwAkTm"
      },
      "execution_count": null,
      "outputs": []
    },
    {
      "cell_type": "code",
      "source": [
        "y"
      ],
      "metadata": {
        "colab": {
          "base_uri": "https://localhost:8080/",
          "height": 424
        },
        "id": "XOOScEPzrLRL",
        "outputId": "40f18515-2604-4298-d262-2e48bb0f3a97"
      },
      "execution_count": null,
      "outputs": [
        {
          "output_type": "execute_result",
          "data": {
            "text/plain": [
              "     smoker\n",
              "0       yes\n",
              "1        no\n",
              "2        no\n",
              "3        no\n",
              "4        no\n",
              "...     ...\n",
              "1333     no\n",
              "1334     no\n",
              "1335     no\n",
              "1336     no\n",
              "1337    yes\n",
              "\n",
              "[1338 rows x 1 columns]"
            ],
            "text/html": [
              "\n",
              "  <div id=\"df-43bbd124-9c89-47b8-9de6-62283f9bdd5c\">\n",
              "    <div class=\"colab-df-container\">\n",
              "      <div>\n",
              "<style scoped>\n",
              "    .dataframe tbody tr th:only-of-type {\n",
              "        vertical-align: middle;\n",
              "    }\n",
              "\n",
              "    .dataframe tbody tr th {\n",
              "        vertical-align: top;\n",
              "    }\n",
              "\n",
              "    .dataframe thead th {\n",
              "        text-align: right;\n",
              "    }\n",
              "</style>\n",
              "<table border=\"1\" class=\"dataframe\">\n",
              "  <thead>\n",
              "    <tr style=\"text-align: right;\">\n",
              "      <th></th>\n",
              "      <th>smoker</th>\n",
              "    </tr>\n",
              "  </thead>\n",
              "  <tbody>\n",
              "    <tr>\n",
              "      <th>0</th>\n",
              "      <td>yes</td>\n",
              "    </tr>\n",
              "    <tr>\n",
              "      <th>1</th>\n",
              "      <td>no</td>\n",
              "    </tr>\n",
              "    <tr>\n",
              "      <th>2</th>\n",
              "      <td>no</td>\n",
              "    </tr>\n",
              "    <tr>\n",
              "      <th>3</th>\n",
              "      <td>no</td>\n",
              "    </tr>\n",
              "    <tr>\n",
              "      <th>4</th>\n",
              "      <td>no</td>\n",
              "    </tr>\n",
              "    <tr>\n",
              "      <th>...</th>\n",
              "      <td>...</td>\n",
              "    </tr>\n",
              "    <tr>\n",
              "      <th>1333</th>\n",
              "      <td>no</td>\n",
              "    </tr>\n",
              "    <tr>\n",
              "      <th>1334</th>\n",
              "      <td>no</td>\n",
              "    </tr>\n",
              "    <tr>\n",
              "      <th>1335</th>\n",
              "      <td>no</td>\n",
              "    </tr>\n",
              "    <tr>\n",
              "      <th>1336</th>\n",
              "      <td>no</td>\n",
              "    </tr>\n",
              "    <tr>\n",
              "      <th>1337</th>\n",
              "      <td>yes</td>\n",
              "    </tr>\n",
              "  </tbody>\n",
              "</table>\n",
              "<p>1338 rows × 1 columns</p>\n",
              "</div>\n",
              "      <button class=\"colab-df-convert\" onclick=\"convertToInteractive('df-43bbd124-9c89-47b8-9de6-62283f9bdd5c')\"\n",
              "              title=\"Convert this dataframe to an interactive table.\"\n",
              "              style=\"display:none;\">\n",
              "        \n",
              "  <svg xmlns=\"http://www.w3.org/2000/svg\" height=\"24px\"viewBox=\"0 0 24 24\"\n",
              "       width=\"24px\">\n",
              "    <path d=\"M0 0h24v24H0V0z\" fill=\"none\"/>\n",
              "    <path d=\"M18.56 5.44l.94 2.06.94-2.06 2.06-.94-2.06-.94-.94-2.06-.94 2.06-2.06.94zm-11 1L8.5 8.5l.94-2.06 2.06-.94-2.06-.94L8.5 2.5l-.94 2.06-2.06.94zm10 10l.94 2.06.94-2.06 2.06-.94-2.06-.94-.94-2.06-.94 2.06-2.06.94z\"/><path d=\"M17.41 7.96l-1.37-1.37c-.4-.4-.92-.59-1.43-.59-.52 0-1.04.2-1.43.59L10.3 9.45l-7.72 7.72c-.78.78-.78 2.05 0 2.83L4 21.41c.39.39.9.59 1.41.59.51 0 1.02-.2 1.41-.59l7.78-7.78 2.81-2.81c.8-.78.8-2.07 0-2.86zM5.41 20L4 18.59l7.72-7.72 1.47 1.35L5.41 20z\"/>\n",
              "  </svg>\n",
              "      </button>\n",
              "      \n",
              "  <style>\n",
              "    .colab-df-container {\n",
              "      display:flex;\n",
              "      flex-wrap:wrap;\n",
              "      gap: 12px;\n",
              "    }\n",
              "\n",
              "    .colab-df-convert {\n",
              "      background-color: #E8F0FE;\n",
              "      border: none;\n",
              "      border-radius: 50%;\n",
              "      cursor: pointer;\n",
              "      display: none;\n",
              "      fill: #1967D2;\n",
              "      height: 32px;\n",
              "      padding: 0 0 0 0;\n",
              "      width: 32px;\n",
              "    }\n",
              "\n",
              "    .colab-df-convert:hover {\n",
              "      background-color: #E2EBFA;\n",
              "      box-shadow: 0px 1px 2px rgba(60, 64, 67, 0.3), 0px 1px 3px 1px rgba(60, 64, 67, 0.15);\n",
              "      fill: #174EA6;\n",
              "    }\n",
              "\n",
              "    [theme=dark] .colab-df-convert {\n",
              "      background-color: #3B4455;\n",
              "      fill: #D2E3FC;\n",
              "    }\n",
              "\n",
              "    [theme=dark] .colab-df-convert:hover {\n",
              "      background-color: #434B5C;\n",
              "      box-shadow: 0px 1px 3px 1px rgba(0, 0, 0, 0.15);\n",
              "      filter: drop-shadow(0px 1px 2px rgba(0, 0, 0, 0.3));\n",
              "      fill: #FFFFFF;\n",
              "    }\n",
              "  </style>\n",
              "\n",
              "      <script>\n",
              "        const buttonEl =\n",
              "          document.querySelector('#df-43bbd124-9c89-47b8-9de6-62283f9bdd5c button.colab-df-convert');\n",
              "        buttonEl.style.display =\n",
              "          google.colab.kernel.accessAllowed ? 'block' : 'none';\n",
              "\n",
              "        async function convertToInteractive(key) {\n",
              "          const element = document.querySelector('#df-43bbd124-9c89-47b8-9de6-62283f9bdd5c');\n",
              "          const dataTable =\n",
              "            await google.colab.kernel.invokeFunction('convertToInteractive',\n",
              "                                                     [key], {});\n",
              "          if (!dataTable) return;\n",
              "\n",
              "          const docLinkHtml = 'Like what you see? Visit the ' +\n",
              "            '<a target=\"_blank\" href=https://colab.research.google.com/notebooks/data_table.ipynb>data table notebook</a>'\n",
              "            + ' to learn more about interactive tables.';\n",
              "          element.innerHTML = '';\n",
              "          dataTable['output_type'] = 'display_data';\n",
              "          await google.colab.output.renderOutput(dataTable, element);\n",
              "          const docLink = document.createElement('div');\n",
              "          docLink.innerHTML = docLinkHtml;\n",
              "          element.appendChild(docLink);\n",
              "        }\n",
              "      </script>\n",
              "    </div>\n",
              "  </div>\n",
              "  "
            ]
          },
          "metadata": {},
          "execution_count": 927
        }
      ]
    },
    {
      "cell_type": "code",
      "source": [
        "X_train,X_test,y_train,y_test=train_test_split(X,y, test_size=.20,random_state=0)#splitting up data into 4 dataframes. test data frames will have 20% of data to check validity of training sets"
      ],
      "metadata": {
        "id": "kn1bpX5xCcSP"
      },
      "execution_count": null,
      "outputs": []
    },
    {
      "cell_type": "code",
      "source": [
        "X_train"
      ],
      "metadata": {
        "colab": {
          "base_uri": "https://localhost:8080/",
          "height": 424
        },
        "id": "h9XAvtWoklNc",
        "outputId": "31f924d2-1488-4cef-a9a1-492922d2bbe5"
      },
      "execution_count": null,
      "outputs": [
        {
          "output_type": "execute_result",
          "data": {
            "text/plain": [
              "      age     sex     bmi  children     region      charges\n",
              "621    37    male  34.100         4  southwest  40182.24600\n",
              "194    18    male  34.430         0  southeast   1137.46970\n",
              "240    23  female  36.670         2  northeast  38511.62830\n",
              "1168   32    male  35.200         2  southwest   4670.64000\n",
              "1192   58  female  32.395         1  northeast  13019.16105\n",
              "...   ...     ...     ...       ...        ...          ...\n",
              "763    27    male  26.030         0  northeast   3070.80870\n",
              "835    42    male  35.970         2  southeast   7160.33030\n",
              "1216   40    male  25.080         0  southeast   5415.66120\n",
              "559    19    male  35.530         0  northwest   1646.42970\n",
              "684    33  female  18.500         1  southwest   4766.02200\n",
              "\n",
              "[1070 rows x 6 columns]"
            ],
            "text/html": [
              "\n",
              "  <div id=\"df-5d100c4b-7fee-4dd6-8bd6-905d653dfb03\">\n",
              "    <div class=\"colab-df-container\">\n",
              "      <div>\n",
              "<style scoped>\n",
              "    .dataframe tbody tr th:only-of-type {\n",
              "        vertical-align: middle;\n",
              "    }\n",
              "\n",
              "    .dataframe tbody tr th {\n",
              "        vertical-align: top;\n",
              "    }\n",
              "\n",
              "    .dataframe thead th {\n",
              "        text-align: right;\n",
              "    }\n",
              "</style>\n",
              "<table border=\"1\" class=\"dataframe\">\n",
              "  <thead>\n",
              "    <tr style=\"text-align: right;\">\n",
              "      <th></th>\n",
              "      <th>age</th>\n",
              "      <th>sex</th>\n",
              "      <th>bmi</th>\n",
              "      <th>children</th>\n",
              "      <th>region</th>\n",
              "      <th>charges</th>\n",
              "    </tr>\n",
              "  </thead>\n",
              "  <tbody>\n",
              "    <tr>\n",
              "      <th>621</th>\n",
              "      <td>37</td>\n",
              "      <td>male</td>\n",
              "      <td>34.100</td>\n",
              "      <td>4</td>\n",
              "      <td>southwest</td>\n",
              "      <td>40182.24600</td>\n",
              "    </tr>\n",
              "    <tr>\n",
              "      <th>194</th>\n",
              "      <td>18</td>\n",
              "      <td>male</td>\n",
              "      <td>34.430</td>\n",
              "      <td>0</td>\n",
              "      <td>southeast</td>\n",
              "      <td>1137.46970</td>\n",
              "    </tr>\n",
              "    <tr>\n",
              "      <th>240</th>\n",
              "      <td>23</td>\n",
              "      <td>female</td>\n",
              "      <td>36.670</td>\n",
              "      <td>2</td>\n",
              "      <td>northeast</td>\n",
              "      <td>38511.62830</td>\n",
              "    </tr>\n",
              "    <tr>\n",
              "      <th>1168</th>\n",
              "      <td>32</td>\n",
              "      <td>male</td>\n",
              "      <td>35.200</td>\n",
              "      <td>2</td>\n",
              "      <td>southwest</td>\n",
              "      <td>4670.64000</td>\n",
              "    </tr>\n",
              "    <tr>\n",
              "      <th>1192</th>\n",
              "      <td>58</td>\n",
              "      <td>female</td>\n",
              "      <td>32.395</td>\n",
              "      <td>1</td>\n",
              "      <td>northeast</td>\n",
              "      <td>13019.16105</td>\n",
              "    </tr>\n",
              "    <tr>\n",
              "      <th>...</th>\n",
              "      <td>...</td>\n",
              "      <td>...</td>\n",
              "      <td>...</td>\n",
              "      <td>...</td>\n",
              "      <td>...</td>\n",
              "      <td>...</td>\n",
              "    </tr>\n",
              "    <tr>\n",
              "      <th>763</th>\n",
              "      <td>27</td>\n",
              "      <td>male</td>\n",
              "      <td>26.030</td>\n",
              "      <td>0</td>\n",
              "      <td>northeast</td>\n",
              "      <td>3070.80870</td>\n",
              "    </tr>\n",
              "    <tr>\n",
              "      <th>835</th>\n",
              "      <td>42</td>\n",
              "      <td>male</td>\n",
              "      <td>35.970</td>\n",
              "      <td>2</td>\n",
              "      <td>southeast</td>\n",
              "      <td>7160.33030</td>\n",
              "    </tr>\n",
              "    <tr>\n",
              "      <th>1216</th>\n",
              "      <td>40</td>\n",
              "      <td>male</td>\n",
              "      <td>25.080</td>\n",
              "      <td>0</td>\n",
              "      <td>southeast</td>\n",
              "      <td>5415.66120</td>\n",
              "    </tr>\n",
              "    <tr>\n",
              "      <th>559</th>\n",
              "      <td>19</td>\n",
              "      <td>male</td>\n",
              "      <td>35.530</td>\n",
              "      <td>0</td>\n",
              "      <td>northwest</td>\n",
              "      <td>1646.42970</td>\n",
              "    </tr>\n",
              "    <tr>\n",
              "      <th>684</th>\n",
              "      <td>33</td>\n",
              "      <td>female</td>\n",
              "      <td>18.500</td>\n",
              "      <td>1</td>\n",
              "      <td>southwest</td>\n",
              "      <td>4766.02200</td>\n",
              "    </tr>\n",
              "  </tbody>\n",
              "</table>\n",
              "<p>1070 rows × 6 columns</p>\n",
              "</div>\n",
              "      <button class=\"colab-df-convert\" onclick=\"convertToInteractive('df-5d100c4b-7fee-4dd6-8bd6-905d653dfb03')\"\n",
              "              title=\"Convert this dataframe to an interactive table.\"\n",
              "              style=\"display:none;\">\n",
              "        \n",
              "  <svg xmlns=\"http://www.w3.org/2000/svg\" height=\"24px\"viewBox=\"0 0 24 24\"\n",
              "       width=\"24px\">\n",
              "    <path d=\"M0 0h24v24H0V0z\" fill=\"none\"/>\n",
              "    <path d=\"M18.56 5.44l.94 2.06.94-2.06 2.06-.94-2.06-.94-.94-2.06-.94 2.06-2.06.94zm-11 1L8.5 8.5l.94-2.06 2.06-.94-2.06-.94L8.5 2.5l-.94 2.06-2.06.94zm10 10l.94 2.06.94-2.06 2.06-.94-2.06-.94-.94-2.06-.94 2.06-2.06.94z\"/><path d=\"M17.41 7.96l-1.37-1.37c-.4-.4-.92-.59-1.43-.59-.52 0-1.04.2-1.43.59L10.3 9.45l-7.72 7.72c-.78.78-.78 2.05 0 2.83L4 21.41c.39.39.9.59 1.41.59.51 0 1.02-.2 1.41-.59l7.78-7.78 2.81-2.81c.8-.78.8-2.07 0-2.86zM5.41 20L4 18.59l7.72-7.72 1.47 1.35L5.41 20z\"/>\n",
              "  </svg>\n",
              "      </button>\n",
              "      \n",
              "  <style>\n",
              "    .colab-df-container {\n",
              "      display:flex;\n",
              "      flex-wrap:wrap;\n",
              "      gap: 12px;\n",
              "    }\n",
              "\n",
              "    .colab-df-convert {\n",
              "      background-color: #E8F0FE;\n",
              "      border: none;\n",
              "      border-radius: 50%;\n",
              "      cursor: pointer;\n",
              "      display: none;\n",
              "      fill: #1967D2;\n",
              "      height: 32px;\n",
              "      padding: 0 0 0 0;\n",
              "      width: 32px;\n",
              "    }\n",
              "\n",
              "    .colab-df-convert:hover {\n",
              "      background-color: #E2EBFA;\n",
              "      box-shadow: 0px 1px 2px rgba(60, 64, 67, 0.3), 0px 1px 3px 1px rgba(60, 64, 67, 0.15);\n",
              "      fill: #174EA6;\n",
              "    }\n",
              "\n",
              "    [theme=dark] .colab-df-convert {\n",
              "      background-color: #3B4455;\n",
              "      fill: #D2E3FC;\n",
              "    }\n",
              "\n",
              "    [theme=dark] .colab-df-convert:hover {\n",
              "      background-color: #434B5C;\n",
              "      box-shadow: 0px 1px 3px 1px rgba(0, 0, 0, 0.15);\n",
              "      filter: drop-shadow(0px 1px 2px rgba(0, 0, 0, 0.3));\n",
              "      fill: #FFFFFF;\n",
              "    }\n",
              "  </style>\n",
              "\n",
              "      <script>\n",
              "        const buttonEl =\n",
              "          document.querySelector('#df-5d100c4b-7fee-4dd6-8bd6-905d653dfb03 button.colab-df-convert');\n",
              "        buttonEl.style.display =\n",
              "          google.colab.kernel.accessAllowed ? 'block' : 'none';\n",
              "\n",
              "        async function convertToInteractive(key) {\n",
              "          const element = document.querySelector('#df-5d100c4b-7fee-4dd6-8bd6-905d653dfb03');\n",
              "          const dataTable =\n",
              "            await google.colab.kernel.invokeFunction('convertToInteractive',\n",
              "                                                     [key], {});\n",
              "          if (!dataTable) return;\n",
              "\n",
              "          const docLinkHtml = 'Like what you see? Visit the ' +\n",
              "            '<a target=\"_blank\" href=https://colab.research.google.com/notebooks/data_table.ipynb>data table notebook</a>'\n",
              "            + ' to learn more about interactive tables.';\n",
              "          element.innerHTML = '';\n",
              "          dataTable['output_type'] = 'display_data';\n",
              "          await google.colab.output.renderOutput(dataTable, element);\n",
              "          const docLink = document.createElement('div');\n",
              "          docLink.innerHTML = docLinkHtml;\n",
              "          element.appendChild(docLink);\n",
              "        }\n",
              "      </script>\n",
              "    </div>\n",
              "  </div>\n",
              "  "
            ]
          },
          "metadata": {},
          "execution_count": 929
        }
      ]
    },
    {
      "cell_type": "code",
      "source": [
        "y_train"
      ],
      "metadata": {
        "colab": {
          "base_uri": "https://localhost:8080/",
          "height": 424
        },
        "id": "ncpF3FtLknaJ",
        "outputId": "4e5456ac-f2b4-494f-d856-4352372ea829"
      },
      "execution_count": null,
      "outputs": [
        {
          "output_type": "execute_result",
          "data": {
            "text/plain": [
              "     smoker\n",
              "621     yes\n",
              "194      no\n",
              "240     yes\n",
              "1168     no\n",
              "1192     no\n",
              "...     ...\n",
              "763      no\n",
              "835      no\n",
              "1216     no\n",
              "559      no\n",
              "684      no\n",
              "\n",
              "[1070 rows x 1 columns]"
            ],
            "text/html": [
              "\n",
              "  <div id=\"df-51e83c41-7b81-499d-9d52-c458ae4a18e6\">\n",
              "    <div class=\"colab-df-container\">\n",
              "      <div>\n",
              "<style scoped>\n",
              "    .dataframe tbody tr th:only-of-type {\n",
              "        vertical-align: middle;\n",
              "    }\n",
              "\n",
              "    .dataframe tbody tr th {\n",
              "        vertical-align: top;\n",
              "    }\n",
              "\n",
              "    .dataframe thead th {\n",
              "        text-align: right;\n",
              "    }\n",
              "</style>\n",
              "<table border=\"1\" class=\"dataframe\">\n",
              "  <thead>\n",
              "    <tr style=\"text-align: right;\">\n",
              "      <th></th>\n",
              "      <th>smoker</th>\n",
              "    </tr>\n",
              "  </thead>\n",
              "  <tbody>\n",
              "    <tr>\n",
              "      <th>621</th>\n",
              "      <td>yes</td>\n",
              "    </tr>\n",
              "    <tr>\n",
              "      <th>194</th>\n",
              "      <td>no</td>\n",
              "    </tr>\n",
              "    <tr>\n",
              "      <th>240</th>\n",
              "      <td>yes</td>\n",
              "    </tr>\n",
              "    <tr>\n",
              "      <th>1168</th>\n",
              "      <td>no</td>\n",
              "    </tr>\n",
              "    <tr>\n",
              "      <th>1192</th>\n",
              "      <td>no</td>\n",
              "    </tr>\n",
              "    <tr>\n",
              "      <th>...</th>\n",
              "      <td>...</td>\n",
              "    </tr>\n",
              "    <tr>\n",
              "      <th>763</th>\n",
              "      <td>no</td>\n",
              "    </tr>\n",
              "    <tr>\n",
              "      <th>835</th>\n",
              "      <td>no</td>\n",
              "    </tr>\n",
              "    <tr>\n",
              "      <th>1216</th>\n",
              "      <td>no</td>\n",
              "    </tr>\n",
              "    <tr>\n",
              "      <th>559</th>\n",
              "      <td>no</td>\n",
              "    </tr>\n",
              "    <tr>\n",
              "      <th>684</th>\n",
              "      <td>no</td>\n",
              "    </tr>\n",
              "  </tbody>\n",
              "</table>\n",
              "<p>1070 rows × 1 columns</p>\n",
              "</div>\n",
              "      <button class=\"colab-df-convert\" onclick=\"convertToInteractive('df-51e83c41-7b81-499d-9d52-c458ae4a18e6')\"\n",
              "              title=\"Convert this dataframe to an interactive table.\"\n",
              "              style=\"display:none;\">\n",
              "        \n",
              "  <svg xmlns=\"http://www.w3.org/2000/svg\" height=\"24px\"viewBox=\"0 0 24 24\"\n",
              "       width=\"24px\">\n",
              "    <path d=\"M0 0h24v24H0V0z\" fill=\"none\"/>\n",
              "    <path d=\"M18.56 5.44l.94 2.06.94-2.06 2.06-.94-2.06-.94-.94-2.06-.94 2.06-2.06.94zm-11 1L8.5 8.5l.94-2.06 2.06-.94-2.06-.94L8.5 2.5l-.94 2.06-2.06.94zm10 10l.94 2.06.94-2.06 2.06-.94-2.06-.94-.94-2.06-.94 2.06-2.06.94z\"/><path d=\"M17.41 7.96l-1.37-1.37c-.4-.4-.92-.59-1.43-.59-.52 0-1.04.2-1.43.59L10.3 9.45l-7.72 7.72c-.78.78-.78 2.05 0 2.83L4 21.41c.39.39.9.59 1.41.59.51 0 1.02-.2 1.41-.59l7.78-7.78 2.81-2.81c.8-.78.8-2.07 0-2.86zM5.41 20L4 18.59l7.72-7.72 1.47 1.35L5.41 20z\"/>\n",
              "  </svg>\n",
              "      </button>\n",
              "      \n",
              "  <style>\n",
              "    .colab-df-container {\n",
              "      display:flex;\n",
              "      flex-wrap:wrap;\n",
              "      gap: 12px;\n",
              "    }\n",
              "\n",
              "    .colab-df-convert {\n",
              "      background-color: #E8F0FE;\n",
              "      border: none;\n",
              "      border-radius: 50%;\n",
              "      cursor: pointer;\n",
              "      display: none;\n",
              "      fill: #1967D2;\n",
              "      height: 32px;\n",
              "      padding: 0 0 0 0;\n",
              "      width: 32px;\n",
              "    }\n",
              "\n",
              "    .colab-df-convert:hover {\n",
              "      background-color: #E2EBFA;\n",
              "      box-shadow: 0px 1px 2px rgba(60, 64, 67, 0.3), 0px 1px 3px 1px rgba(60, 64, 67, 0.15);\n",
              "      fill: #174EA6;\n",
              "    }\n",
              "\n",
              "    [theme=dark] .colab-df-convert {\n",
              "      background-color: #3B4455;\n",
              "      fill: #D2E3FC;\n",
              "    }\n",
              "\n",
              "    [theme=dark] .colab-df-convert:hover {\n",
              "      background-color: #434B5C;\n",
              "      box-shadow: 0px 1px 3px 1px rgba(0, 0, 0, 0.15);\n",
              "      filter: drop-shadow(0px 1px 2px rgba(0, 0, 0, 0.3));\n",
              "      fill: #FFFFFF;\n",
              "    }\n",
              "  </style>\n",
              "\n",
              "      <script>\n",
              "        const buttonEl =\n",
              "          document.querySelector('#df-51e83c41-7b81-499d-9d52-c458ae4a18e6 button.colab-df-convert');\n",
              "        buttonEl.style.display =\n",
              "          google.colab.kernel.accessAllowed ? 'block' : 'none';\n",
              "\n",
              "        async function convertToInteractive(key) {\n",
              "          const element = document.querySelector('#df-51e83c41-7b81-499d-9d52-c458ae4a18e6');\n",
              "          const dataTable =\n",
              "            await google.colab.kernel.invokeFunction('convertToInteractive',\n",
              "                                                     [key], {});\n",
              "          if (!dataTable) return;\n",
              "\n",
              "          const docLinkHtml = 'Like what you see? Visit the ' +\n",
              "            '<a target=\"_blank\" href=https://colab.research.google.com/notebooks/data_table.ipynb>data table notebook</a>'\n",
              "            + ' to learn more about interactive tables.';\n",
              "          element.innerHTML = '';\n",
              "          dataTable['output_type'] = 'display_data';\n",
              "          await google.colab.output.renderOutput(dataTable, element);\n",
              "          const docLink = document.createElement('div');\n",
              "          docLink.innerHTML = docLinkHtml;\n",
              "          element.appendChild(docLink);\n",
              "        }\n",
              "      </script>\n",
              "    </div>\n",
              "  </div>\n",
              "  "
            ]
          },
          "metadata": {},
          "execution_count": 930
        }
      ]
    },
    {
      "cell_type": "markdown",
      "source": [
        "### Building the Pipeline"
      ],
      "metadata": {
        "id": "vtE3macyComT"
      }
    },
    {
      "cell_type": "code",
      "source": [
        "num_attribs= ['age','bmi','children','charges']"
      ],
      "metadata": {
        "id": "WGHhZmLiCpwy"
      },
      "execution_count": null,
      "outputs": []
    },
    {
      "cell_type": "code",
      "source": [
        "cat_attribs=['sex','region']"
      ],
      "metadata": {
        "id": "wboCYCEMDA56"
      },
      "execution_count": null,
      "outputs": []
    },
    {
      "cell_type": "code",
      "source": [
        "col_transform = ColumnTransformer(transformers=[\n",
        "    ('cat',OneHotEncoder(),cat_attribs),\n",
        "    ('num',MinMaxScaler(),num_attribs),]\n",
        "    )\n",
        "\n",
        "#col_transform=ColumnTransformer(transformers=[('cat',OneHotEncoder(),cat_attribs),('num',MinMaxScaler(),num_attribs)], remainder='passthrough')\n"
      ],
      "metadata": {
        "id": "mtibZCLLDo2S"
      },
      "execution_count": null,
      "outputs": []
    },
    {
      "cell_type": "code",
      "source": [
        "pipeline= Pipeline([\n",
        "    ('transform', col_transform),\n",
        "    ('mlr',LogisticRegression(max_iter=1000)),\n",
        "])"
      ],
      "metadata": {
        "id": "C-5jq-0TDTzh"
      },
      "execution_count": null,
      "outputs": []
    },
    {
      "cell_type": "code",
      "source": [
        "pipeline"
      ],
      "metadata": {
        "colab": {
          "base_uri": "https://localhost:8080/",
          "height": 192
        },
        "id": "9wYOE1hlFU5I",
        "outputId": "d4629856-8387-4625-eee7-8bc06c85958e"
      },
      "execution_count": null,
      "outputs": [
        {
          "output_type": "execute_result",
          "data": {
            "text/plain": [
              "Pipeline(steps=[('transform',\n",
              "                 ColumnTransformer(transformers=[('cat', OneHotEncoder(),\n",
              "                                                  ['sex', 'region']),\n",
              "                                                 ('num', MinMaxScaler(),\n",
              "                                                  ['age', 'bmi', 'children',\n",
              "                                                   'charges'])])),\n",
              "                ('mlr', LogisticRegression(max_iter=1000))])"
            ],
            "text/html": [
              "<style>#sk-46a9280c-c4d9-43a6-a0c6-eb8d058b56d4 {color: black;background-color: white;}#sk-46a9280c-c4d9-43a6-a0c6-eb8d058b56d4 pre{padding: 0;}#sk-46a9280c-c4d9-43a6-a0c6-eb8d058b56d4 div.sk-toggleable {background-color: white;}#sk-46a9280c-c4d9-43a6-a0c6-eb8d058b56d4 label.sk-toggleable__label {cursor: pointer;display: block;width: 100%;margin-bottom: 0;padding: 0.3em;box-sizing: border-box;text-align: center;}#sk-46a9280c-c4d9-43a6-a0c6-eb8d058b56d4 label.sk-toggleable__label-arrow:before {content: \"▸\";float: left;margin-right: 0.25em;color: #696969;}#sk-46a9280c-c4d9-43a6-a0c6-eb8d058b56d4 label.sk-toggleable__label-arrow:hover:before {color: black;}#sk-46a9280c-c4d9-43a6-a0c6-eb8d058b56d4 div.sk-estimator:hover label.sk-toggleable__label-arrow:before {color: black;}#sk-46a9280c-c4d9-43a6-a0c6-eb8d058b56d4 div.sk-toggleable__content {max-height: 0;max-width: 0;overflow: hidden;text-align: left;background-color: #f0f8ff;}#sk-46a9280c-c4d9-43a6-a0c6-eb8d058b56d4 div.sk-toggleable__content pre {margin: 0.2em;color: black;border-radius: 0.25em;background-color: #f0f8ff;}#sk-46a9280c-c4d9-43a6-a0c6-eb8d058b56d4 input.sk-toggleable__control:checked~div.sk-toggleable__content {max-height: 200px;max-width: 100%;overflow: auto;}#sk-46a9280c-c4d9-43a6-a0c6-eb8d058b56d4 input.sk-toggleable__control:checked~label.sk-toggleable__label-arrow:before {content: \"▾\";}#sk-46a9280c-c4d9-43a6-a0c6-eb8d058b56d4 div.sk-estimator input.sk-toggleable__control:checked~label.sk-toggleable__label {background-color: #d4ebff;}#sk-46a9280c-c4d9-43a6-a0c6-eb8d058b56d4 div.sk-label input.sk-toggleable__control:checked~label.sk-toggleable__label {background-color: #d4ebff;}#sk-46a9280c-c4d9-43a6-a0c6-eb8d058b56d4 input.sk-hidden--visually {border: 0;clip: rect(1px 1px 1px 1px);clip: rect(1px, 1px, 1px, 1px);height: 1px;margin: -1px;overflow: hidden;padding: 0;position: absolute;width: 1px;}#sk-46a9280c-c4d9-43a6-a0c6-eb8d058b56d4 div.sk-estimator {font-family: monospace;background-color: #f0f8ff;border: 1px dotted black;border-radius: 0.25em;box-sizing: border-box;margin-bottom: 0.5em;}#sk-46a9280c-c4d9-43a6-a0c6-eb8d058b56d4 div.sk-estimator:hover {background-color: #d4ebff;}#sk-46a9280c-c4d9-43a6-a0c6-eb8d058b56d4 div.sk-parallel-item::after {content: \"\";width: 100%;border-bottom: 1px solid gray;flex-grow: 1;}#sk-46a9280c-c4d9-43a6-a0c6-eb8d058b56d4 div.sk-label:hover label.sk-toggleable__label {background-color: #d4ebff;}#sk-46a9280c-c4d9-43a6-a0c6-eb8d058b56d4 div.sk-serial::before {content: \"\";position: absolute;border-left: 1px solid gray;box-sizing: border-box;top: 2em;bottom: 0;left: 50%;}#sk-46a9280c-c4d9-43a6-a0c6-eb8d058b56d4 div.sk-serial {display: flex;flex-direction: column;align-items: center;background-color: white;padding-right: 0.2em;padding-left: 0.2em;}#sk-46a9280c-c4d9-43a6-a0c6-eb8d058b56d4 div.sk-item {z-index: 1;}#sk-46a9280c-c4d9-43a6-a0c6-eb8d058b56d4 div.sk-parallel {display: flex;align-items: stretch;justify-content: center;background-color: white;}#sk-46a9280c-c4d9-43a6-a0c6-eb8d058b56d4 div.sk-parallel::before {content: \"\";position: absolute;border-left: 1px solid gray;box-sizing: border-box;top: 2em;bottom: 0;left: 50%;}#sk-46a9280c-c4d9-43a6-a0c6-eb8d058b56d4 div.sk-parallel-item {display: flex;flex-direction: column;position: relative;background-color: white;}#sk-46a9280c-c4d9-43a6-a0c6-eb8d058b56d4 div.sk-parallel-item:first-child::after {align-self: flex-end;width: 50%;}#sk-46a9280c-c4d9-43a6-a0c6-eb8d058b56d4 div.sk-parallel-item:last-child::after {align-self: flex-start;width: 50%;}#sk-46a9280c-c4d9-43a6-a0c6-eb8d058b56d4 div.sk-parallel-item:only-child::after {width: 0;}#sk-46a9280c-c4d9-43a6-a0c6-eb8d058b56d4 div.sk-dashed-wrapped {border: 1px dashed gray;margin: 0 0.4em 0.5em 0.4em;box-sizing: border-box;padding-bottom: 0.4em;background-color: white;position: relative;}#sk-46a9280c-c4d9-43a6-a0c6-eb8d058b56d4 div.sk-label label {font-family: monospace;font-weight: bold;background-color: white;display: inline-block;line-height: 1.2em;}#sk-46a9280c-c4d9-43a6-a0c6-eb8d058b56d4 div.sk-label-container {position: relative;z-index: 2;text-align: center;}#sk-46a9280c-c4d9-43a6-a0c6-eb8d058b56d4 div.sk-container {/* jupyter's `normalize.less` sets `[hidden] { display: none; }` but bootstrap.min.css set `[hidden] { display: none !important; }` so we also need the `!important` here to be able to override the default hidden behavior on the sphinx rendered scikit-learn.org. See: https://github.com/scikit-learn/scikit-learn/issues/21755 */display: inline-block !important;position: relative;}#sk-46a9280c-c4d9-43a6-a0c6-eb8d058b56d4 div.sk-text-repr-fallback {display: none;}</style><div id=\"sk-46a9280c-c4d9-43a6-a0c6-eb8d058b56d4\" class=\"sk-top-container\"><div class=\"sk-text-repr-fallback\"><pre>Pipeline(steps=[(&#x27;transform&#x27;,\n",
              "                 ColumnTransformer(transformers=[(&#x27;cat&#x27;, OneHotEncoder(),\n",
              "                                                  [&#x27;sex&#x27;, &#x27;region&#x27;]),\n",
              "                                                 (&#x27;num&#x27;, MinMaxScaler(),\n",
              "                                                  [&#x27;age&#x27;, &#x27;bmi&#x27;, &#x27;children&#x27;,\n",
              "                                                   &#x27;charges&#x27;])])),\n",
              "                (&#x27;mlr&#x27;, LogisticRegression(max_iter=1000))])</pre><b>Please rerun this cell to show the HTML repr or trust the notebook.</b></div><div class=\"sk-container\" hidden><div class=\"sk-item sk-dashed-wrapped\"><div class=\"sk-label-container\"><div class=\"sk-label sk-toggleable\"><input class=\"sk-toggleable__control sk-hidden--visually\" id=\"00b80358-0515-4799-96f5-83cda695778f\" type=\"checkbox\" ><label for=\"00b80358-0515-4799-96f5-83cda695778f\" class=\"sk-toggleable__label sk-toggleable__label-arrow\">Pipeline</label><div class=\"sk-toggleable__content\"><pre>Pipeline(steps=[(&#x27;transform&#x27;,\n",
              "                 ColumnTransformer(transformers=[(&#x27;cat&#x27;, OneHotEncoder(),\n",
              "                                                  [&#x27;sex&#x27;, &#x27;region&#x27;]),\n",
              "                                                 (&#x27;num&#x27;, MinMaxScaler(),\n",
              "                                                  [&#x27;age&#x27;, &#x27;bmi&#x27;, &#x27;children&#x27;,\n",
              "                                                   &#x27;charges&#x27;])])),\n",
              "                (&#x27;mlr&#x27;, LogisticRegression(max_iter=1000))])</pre></div></div></div><div class=\"sk-serial\"><div class=\"sk-item sk-dashed-wrapped\"><div class=\"sk-label-container\"><div class=\"sk-label sk-toggleable\"><input class=\"sk-toggleable__control sk-hidden--visually\" id=\"8993a982-ba3b-4175-8d9f-7286da80ae4e\" type=\"checkbox\" ><label for=\"8993a982-ba3b-4175-8d9f-7286da80ae4e\" class=\"sk-toggleable__label sk-toggleable__label-arrow\">transform: ColumnTransformer</label><div class=\"sk-toggleable__content\"><pre>ColumnTransformer(transformers=[(&#x27;cat&#x27;, OneHotEncoder(), [&#x27;sex&#x27;, &#x27;region&#x27;]),\n",
              "                                (&#x27;num&#x27;, MinMaxScaler(),\n",
              "                                 [&#x27;age&#x27;, &#x27;bmi&#x27;, &#x27;children&#x27;, &#x27;charges&#x27;])])</pre></div></div></div><div class=\"sk-parallel\"><div class=\"sk-parallel-item\"><div class=\"sk-item\"><div class=\"sk-label-container\"><div class=\"sk-label sk-toggleable\"><input class=\"sk-toggleable__control sk-hidden--visually\" id=\"a70c07da-dafb-4667-92d5-e7b338dfee0d\" type=\"checkbox\" ><label for=\"a70c07da-dafb-4667-92d5-e7b338dfee0d\" class=\"sk-toggleable__label sk-toggleable__label-arrow\">cat</label><div class=\"sk-toggleable__content\"><pre>[&#x27;sex&#x27;, &#x27;region&#x27;]</pre></div></div></div><div class=\"sk-serial\"><div class=\"sk-item\"><div class=\"sk-estimator sk-toggleable\"><input class=\"sk-toggleable__control sk-hidden--visually\" id=\"63635c37-7115-4bc8-bf3a-a006dfec56bc\" type=\"checkbox\" ><label for=\"63635c37-7115-4bc8-bf3a-a006dfec56bc\" class=\"sk-toggleable__label sk-toggleable__label-arrow\">OneHotEncoder</label><div class=\"sk-toggleable__content\"><pre>OneHotEncoder()</pre></div></div></div></div></div></div><div class=\"sk-parallel-item\"><div class=\"sk-item\"><div class=\"sk-label-container\"><div class=\"sk-label sk-toggleable\"><input class=\"sk-toggleable__control sk-hidden--visually\" id=\"a9c914b5-ec7e-4d8b-bd89-970eae43af30\" type=\"checkbox\" ><label for=\"a9c914b5-ec7e-4d8b-bd89-970eae43af30\" class=\"sk-toggleable__label sk-toggleable__label-arrow\">num</label><div class=\"sk-toggleable__content\"><pre>[&#x27;age&#x27;, &#x27;bmi&#x27;, &#x27;children&#x27;, &#x27;charges&#x27;]</pre></div></div></div><div class=\"sk-serial\"><div class=\"sk-item\"><div class=\"sk-estimator sk-toggleable\"><input class=\"sk-toggleable__control sk-hidden--visually\" id=\"211861e8-f048-4727-bab2-dac88f924952\" type=\"checkbox\" ><label for=\"211861e8-f048-4727-bab2-dac88f924952\" class=\"sk-toggleable__label sk-toggleable__label-arrow\">MinMaxScaler</label><div class=\"sk-toggleable__content\"><pre>MinMaxScaler()</pre></div></div></div></div></div></div></div></div><div class=\"sk-item\"><div class=\"sk-estimator sk-toggleable\"><input class=\"sk-toggleable__control sk-hidden--visually\" id=\"0551976d-842a-4d52-b406-a76bd1658053\" type=\"checkbox\" ><label for=\"0551976d-842a-4d52-b406-a76bd1658053\" class=\"sk-toggleable__label sk-toggleable__label-arrow\">LogisticRegression</label><div class=\"sk-toggleable__content\"><pre>LogisticRegression(max_iter=1000)</pre></div></div></div></div></div></div></div>"
            ]
          },
          "metadata": {},
          "execution_count": 935
        }
      ]
    },
    {
      "cell_type": "markdown",
      "source": [
        "###Executing the Model"
      ],
      "metadata": {
        "id": "KMmKUoNoFamA"
      }
    },
    {
      "cell_type": "code",
      "source": [
        "X_train"
      ],
      "metadata": {
        "colab": {
          "base_uri": "https://localhost:8080/",
          "height": 424
        },
        "id": "PX4yhLV_tzaW",
        "outputId": "564cc60f-25cd-45d6-dd02-88cfb311e107"
      },
      "execution_count": null,
      "outputs": [
        {
          "output_type": "execute_result",
          "data": {
            "text/plain": [
              "      age     sex     bmi  children     region      charges\n",
              "621    37    male  34.100         4  southwest  40182.24600\n",
              "194    18    male  34.430         0  southeast   1137.46970\n",
              "240    23  female  36.670         2  northeast  38511.62830\n",
              "1168   32    male  35.200         2  southwest   4670.64000\n",
              "1192   58  female  32.395         1  northeast  13019.16105\n",
              "...   ...     ...     ...       ...        ...          ...\n",
              "763    27    male  26.030         0  northeast   3070.80870\n",
              "835    42    male  35.970         2  southeast   7160.33030\n",
              "1216   40    male  25.080         0  southeast   5415.66120\n",
              "559    19    male  35.530         0  northwest   1646.42970\n",
              "684    33  female  18.500         1  southwest   4766.02200\n",
              "\n",
              "[1070 rows x 6 columns]"
            ],
            "text/html": [
              "\n",
              "  <div id=\"df-8e39d17e-e006-406f-9892-f82cf4d73ee9\">\n",
              "    <div class=\"colab-df-container\">\n",
              "      <div>\n",
              "<style scoped>\n",
              "    .dataframe tbody tr th:only-of-type {\n",
              "        vertical-align: middle;\n",
              "    }\n",
              "\n",
              "    .dataframe tbody tr th {\n",
              "        vertical-align: top;\n",
              "    }\n",
              "\n",
              "    .dataframe thead th {\n",
              "        text-align: right;\n",
              "    }\n",
              "</style>\n",
              "<table border=\"1\" class=\"dataframe\">\n",
              "  <thead>\n",
              "    <tr style=\"text-align: right;\">\n",
              "      <th></th>\n",
              "      <th>age</th>\n",
              "      <th>sex</th>\n",
              "      <th>bmi</th>\n",
              "      <th>children</th>\n",
              "      <th>region</th>\n",
              "      <th>charges</th>\n",
              "    </tr>\n",
              "  </thead>\n",
              "  <tbody>\n",
              "    <tr>\n",
              "      <th>621</th>\n",
              "      <td>37</td>\n",
              "      <td>male</td>\n",
              "      <td>34.100</td>\n",
              "      <td>4</td>\n",
              "      <td>southwest</td>\n",
              "      <td>40182.24600</td>\n",
              "    </tr>\n",
              "    <tr>\n",
              "      <th>194</th>\n",
              "      <td>18</td>\n",
              "      <td>male</td>\n",
              "      <td>34.430</td>\n",
              "      <td>0</td>\n",
              "      <td>southeast</td>\n",
              "      <td>1137.46970</td>\n",
              "    </tr>\n",
              "    <tr>\n",
              "      <th>240</th>\n",
              "      <td>23</td>\n",
              "      <td>female</td>\n",
              "      <td>36.670</td>\n",
              "      <td>2</td>\n",
              "      <td>northeast</td>\n",
              "      <td>38511.62830</td>\n",
              "    </tr>\n",
              "    <tr>\n",
              "      <th>1168</th>\n",
              "      <td>32</td>\n",
              "      <td>male</td>\n",
              "      <td>35.200</td>\n",
              "      <td>2</td>\n",
              "      <td>southwest</td>\n",
              "      <td>4670.64000</td>\n",
              "    </tr>\n",
              "    <tr>\n",
              "      <th>1192</th>\n",
              "      <td>58</td>\n",
              "      <td>female</td>\n",
              "      <td>32.395</td>\n",
              "      <td>1</td>\n",
              "      <td>northeast</td>\n",
              "      <td>13019.16105</td>\n",
              "    </tr>\n",
              "    <tr>\n",
              "      <th>...</th>\n",
              "      <td>...</td>\n",
              "      <td>...</td>\n",
              "      <td>...</td>\n",
              "      <td>...</td>\n",
              "      <td>...</td>\n",
              "      <td>...</td>\n",
              "    </tr>\n",
              "    <tr>\n",
              "      <th>763</th>\n",
              "      <td>27</td>\n",
              "      <td>male</td>\n",
              "      <td>26.030</td>\n",
              "      <td>0</td>\n",
              "      <td>northeast</td>\n",
              "      <td>3070.80870</td>\n",
              "    </tr>\n",
              "    <tr>\n",
              "      <th>835</th>\n",
              "      <td>42</td>\n",
              "      <td>male</td>\n",
              "      <td>35.970</td>\n",
              "      <td>2</td>\n",
              "      <td>southeast</td>\n",
              "      <td>7160.33030</td>\n",
              "    </tr>\n",
              "    <tr>\n",
              "      <th>1216</th>\n",
              "      <td>40</td>\n",
              "      <td>male</td>\n",
              "      <td>25.080</td>\n",
              "      <td>0</td>\n",
              "      <td>southeast</td>\n",
              "      <td>5415.66120</td>\n",
              "    </tr>\n",
              "    <tr>\n",
              "      <th>559</th>\n",
              "      <td>19</td>\n",
              "      <td>male</td>\n",
              "      <td>35.530</td>\n",
              "      <td>0</td>\n",
              "      <td>northwest</td>\n",
              "      <td>1646.42970</td>\n",
              "    </tr>\n",
              "    <tr>\n",
              "      <th>684</th>\n",
              "      <td>33</td>\n",
              "      <td>female</td>\n",
              "      <td>18.500</td>\n",
              "      <td>1</td>\n",
              "      <td>southwest</td>\n",
              "      <td>4766.02200</td>\n",
              "    </tr>\n",
              "  </tbody>\n",
              "</table>\n",
              "<p>1070 rows × 6 columns</p>\n",
              "</div>\n",
              "      <button class=\"colab-df-convert\" onclick=\"convertToInteractive('df-8e39d17e-e006-406f-9892-f82cf4d73ee9')\"\n",
              "              title=\"Convert this dataframe to an interactive table.\"\n",
              "              style=\"display:none;\">\n",
              "        \n",
              "  <svg xmlns=\"http://www.w3.org/2000/svg\" height=\"24px\"viewBox=\"0 0 24 24\"\n",
              "       width=\"24px\">\n",
              "    <path d=\"M0 0h24v24H0V0z\" fill=\"none\"/>\n",
              "    <path d=\"M18.56 5.44l.94 2.06.94-2.06 2.06-.94-2.06-.94-.94-2.06-.94 2.06-2.06.94zm-11 1L8.5 8.5l.94-2.06 2.06-.94-2.06-.94L8.5 2.5l-.94 2.06-2.06.94zm10 10l.94 2.06.94-2.06 2.06-.94-2.06-.94-.94-2.06-.94 2.06-2.06.94z\"/><path d=\"M17.41 7.96l-1.37-1.37c-.4-.4-.92-.59-1.43-.59-.52 0-1.04.2-1.43.59L10.3 9.45l-7.72 7.72c-.78.78-.78 2.05 0 2.83L4 21.41c.39.39.9.59 1.41.59.51 0 1.02-.2 1.41-.59l7.78-7.78 2.81-2.81c.8-.78.8-2.07 0-2.86zM5.41 20L4 18.59l7.72-7.72 1.47 1.35L5.41 20z\"/>\n",
              "  </svg>\n",
              "      </button>\n",
              "      \n",
              "  <style>\n",
              "    .colab-df-container {\n",
              "      display:flex;\n",
              "      flex-wrap:wrap;\n",
              "      gap: 12px;\n",
              "    }\n",
              "\n",
              "    .colab-df-convert {\n",
              "      background-color: #E8F0FE;\n",
              "      border: none;\n",
              "      border-radius: 50%;\n",
              "      cursor: pointer;\n",
              "      display: none;\n",
              "      fill: #1967D2;\n",
              "      height: 32px;\n",
              "      padding: 0 0 0 0;\n",
              "      width: 32px;\n",
              "    }\n",
              "\n",
              "    .colab-df-convert:hover {\n",
              "      background-color: #E2EBFA;\n",
              "      box-shadow: 0px 1px 2px rgba(60, 64, 67, 0.3), 0px 1px 3px 1px rgba(60, 64, 67, 0.15);\n",
              "      fill: #174EA6;\n",
              "    }\n",
              "\n",
              "    [theme=dark] .colab-df-convert {\n",
              "      background-color: #3B4455;\n",
              "      fill: #D2E3FC;\n",
              "    }\n",
              "\n",
              "    [theme=dark] .colab-df-convert:hover {\n",
              "      background-color: #434B5C;\n",
              "      box-shadow: 0px 1px 3px 1px rgba(0, 0, 0, 0.15);\n",
              "      filter: drop-shadow(0px 1px 2px rgba(0, 0, 0, 0.3));\n",
              "      fill: #FFFFFF;\n",
              "    }\n",
              "  </style>\n",
              "\n",
              "      <script>\n",
              "        const buttonEl =\n",
              "          document.querySelector('#df-8e39d17e-e006-406f-9892-f82cf4d73ee9 button.colab-df-convert');\n",
              "        buttonEl.style.display =\n",
              "          google.colab.kernel.accessAllowed ? 'block' : 'none';\n",
              "\n",
              "        async function convertToInteractive(key) {\n",
              "          const element = document.querySelector('#df-8e39d17e-e006-406f-9892-f82cf4d73ee9');\n",
              "          const dataTable =\n",
              "            await google.colab.kernel.invokeFunction('convertToInteractive',\n",
              "                                                     [key], {});\n",
              "          if (!dataTable) return;\n",
              "\n",
              "          const docLinkHtml = 'Like what you see? Visit the ' +\n",
              "            '<a target=\"_blank\" href=https://colab.research.google.com/notebooks/data_table.ipynb>data table notebook</a>'\n",
              "            + ' to learn more about interactive tables.';\n",
              "          element.innerHTML = '';\n",
              "          dataTable['output_type'] = 'display_data';\n",
              "          await google.colab.output.renderOutput(dataTable, element);\n",
              "          const docLink = document.createElement('div');\n",
              "          docLink.innerHTML = docLinkHtml;\n",
              "          element.appendChild(docLink);\n",
              "        }\n",
              "      </script>\n",
              "    </div>\n",
              "  </div>\n",
              "  "
            ]
          },
          "metadata": {},
          "execution_count": 936
        }
      ]
    },
    {
      "cell_type": "code",
      "source": [
        "pipeline.fit(X_train,np.ravel(y_train))"
      ],
      "metadata": {
        "colab": {
          "base_uri": "https://localhost:8080/",
          "height": 192
        },
        "id": "mLCGU7-9FfAd",
        "outputId": "0f6a142b-e951-4fc0-a058-2b17885c1221"
      },
      "execution_count": null,
      "outputs": [
        {
          "output_type": "execute_result",
          "data": {
            "text/plain": [
              "Pipeline(steps=[('transform',\n",
              "                 ColumnTransformer(transformers=[('cat', OneHotEncoder(),\n",
              "                                                  ['sex', 'region']),\n",
              "                                                 ('num', MinMaxScaler(),\n",
              "                                                  ['age', 'bmi', 'children',\n",
              "                                                   'charges'])])),\n",
              "                ('mlr', LogisticRegression(max_iter=1000))])"
            ],
            "text/html": [
              "<style>#sk-6d78cefd-b148-48c1-9015-328e9f5130b9 {color: black;background-color: white;}#sk-6d78cefd-b148-48c1-9015-328e9f5130b9 pre{padding: 0;}#sk-6d78cefd-b148-48c1-9015-328e9f5130b9 div.sk-toggleable {background-color: white;}#sk-6d78cefd-b148-48c1-9015-328e9f5130b9 label.sk-toggleable__label {cursor: pointer;display: block;width: 100%;margin-bottom: 0;padding: 0.3em;box-sizing: border-box;text-align: center;}#sk-6d78cefd-b148-48c1-9015-328e9f5130b9 label.sk-toggleable__label-arrow:before {content: \"▸\";float: left;margin-right: 0.25em;color: #696969;}#sk-6d78cefd-b148-48c1-9015-328e9f5130b9 label.sk-toggleable__label-arrow:hover:before {color: black;}#sk-6d78cefd-b148-48c1-9015-328e9f5130b9 div.sk-estimator:hover label.sk-toggleable__label-arrow:before {color: black;}#sk-6d78cefd-b148-48c1-9015-328e9f5130b9 div.sk-toggleable__content {max-height: 0;max-width: 0;overflow: hidden;text-align: left;background-color: #f0f8ff;}#sk-6d78cefd-b148-48c1-9015-328e9f5130b9 div.sk-toggleable__content pre {margin: 0.2em;color: black;border-radius: 0.25em;background-color: #f0f8ff;}#sk-6d78cefd-b148-48c1-9015-328e9f5130b9 input.sk-toggleable__control:checked~div.sk-toggleable__content {max-height: 200px;max-width: 100%;overflow: auto;}#sk-6d78cefd-b148-48c1-9015-328e9f5130b9 input.sk-toggleable__control:checked~label.sk-toggleable__label-arrow:before {content: \"▾\";}#sk-6d78cefd-b148-48c1-9015-328e9f5130b9 div.sk-estimator input.sk-toggleable__control:checked~label.sk-toggleable__label {background-color: #d4ebff;}#sk-6d78cefd-b148-48c1-9015-328e9f5130b9 div.sk-label input.sk-toggleable__control:checked~label.sk-toggleable__label {background-color: #d4ebff;}#sk-6d78cefd-b148-48c1-9015-328e9f5130b9 input.sk-hidden--visually {border: 0;clip: rect(1px 1px 1px 1px);clip: rect(1px, 1px, 1px, 1px);height: 1px;margin: -1px;overflow: hidden;padding: 0;position: absolute;width: 1px;}#sk-6d78cefd-b148-48c1-9015-328e9f5130b9 div.sk-estimator {font-family: monospace;background-color: #f0f8ff;border: 1px dotted black;border-radius: 0.25em;box-sizing: border-box;margin-bottom: 0.5em;}#sk-6d78cefd-b148-48c1-9015-328e9f5130b9 div.sk-estimator:hover {background-color: #d4ebff;}#sk-6d78cefd-b148-48c1-9015-328e9f5130b9 div.sk-parallel-item::after {content: \"\";width: 100%;border-bottom: 1px solid gray;flex-grow: 1;}#sk-6d78cefd-b148-48c1-9015-328e9f5130b9 div.sk-label:hover label.sk-toggleable__label {background-color: #d4ebff;}#sk-6d78cefd-b148-48c1-9015-328e9f5130b9 div.sk-serial::before {content: \"\";position: absolute;border-left: 1px solid gray;box-sizing: border-box;top: 2em;bottom: 0;left: 50%;}#sk-6d78cefd-b148-48c1-9015-328e9f5130b9 div.sk-serial {display: flex;flex-direction: column;align-items: center;background-color: white;padding-right: 0.2em;padding-left: 0.2em;}#sk-6d78cefd-b148-48c1-9015-328e9f5130b9 div.sk-item {z-index: 1;}#sk-6d78cefd-b148-48c1-9015-328e9f5130b9 div.sk-parallel {display: flex;align-items: stretch;justify-content: center;background-color: white;}#sk-6d78cefd-b148-48c1-9015-328e9f5130b9 div.sk-parallel::before {content: \"\";position: absolute;border-left: 1px solid gray;box-sizing: border-box;top: 2em;bottom: 0;left: 50%;}#sk-6d78cefd-b148-48c1-9015-328e9f5130b9 div.sk-parallel-item {display: flex;flex-direction: column;position: relative;background-color: white;}#sk-6d78cefd-b148-48c1-9015-328e9f5130b9 div.sk-parallel-item:first-child::after {align-self: flex-end;width: 50%;}#sk-6d78cefd-b148-48c1-9015-328e9f5130b9 div.sk-parallel-item:last-child::after {align-self: flex-start;width: 50%;}#sk-6d78cefd-b148-48c1-9015-328e9f5130b9 div.sk-parallel-item:only-child::after {width: 0;}#sk-6d78cefd-b148-48c1-9015-328e9f5130b9 div.sk-dashed-wrapped {border: 1px dashed gray;margin: 0 0.4em 0.5em 0.4em;box-sizing: border-box;padding-bottom: 0.4em;background-color: white;position: relative;}#sk-6d78cefd-b148-48c1-9015-328e9f5130b9 div.sk-label label {font-family: monospace;font-weight: bold;background-color: white;display: inline-block;line-height: 1.2em;}#sk-6d78cefd-b148-48c1-9015-328e9f5130b9 div.sk-label-container {position: relative;z-index: 2;text-align: center;}#sk-6d78cefd-b148-48c1-9015-328e9f5130b9 div.sk-container {/* jupyter's `normalize.less` sets `[hidden] { display: none; }` but bootstrap.min.css set `[hidden] { display: none !important; }` so we also need the `!important` here to be able to override the default hidden behavior on the sphinx rendered scikit-learn.org. See: https://github.com/scikit-learn/scikit-learn/issues/21755 */display: inline-block !important;position: relative;}#sk-6d78cefd-b148-48c1-9015-328e9f5130b9 div.sk-text-repr-fallback {display: none;}</style><div id=\"sk-6d78cefd-b148-48c1-9015-328e9f5130b9\" class=\"sk-top-container\"><div class=\"sk-text-repr-fallback\"><pre>Pipeline(steps=[(&#x27;transform&#x27;,\n",
              "                 ColumnTransformer(transformers=[(&#x27;cat&#x27;, OneHotEncoder(),\n",
              "                                                  [&#x27;sex&#x27;, &#x27;region&#x27;]),\n",
              "                                                 (&#x27;num&#x27;, MinMaxScaler(),\n",
              "                                                  [&#x27;age&#x27;, &#x27;bmi&#x27;, &#x27;children&#x27;,\n",
              "                                                   &#x27;charges&#x27;])])),\n",
              "                (&#x27;mlr&#x27;, LogisticRegression(max_iter=1000))])</pre><b>Please rerun this cell to show the HTML repr or trust the notebook.</b></div><div class=\"sk-container\" hidden><div class=\"sk-item sk-dashed-wrapped\"><div class=\"sk-label-container\"><div class=\"sk-label sk-toggleable\"><input class=\"sk-toggleable__control sk-hidden--visually\" id=\"42897c26-3da0-4846-98df-1785aaf82451\" type=\"checkbox\" ><label for=\"42897c26-3da0-4846-98df-1785aaf82451\" class=\"sk-toggleable__label sk-toggleable__label-arrow\">Pipeline</label><div class=\"sk-toggleable__content\"><pre>Pipeline(steps=[(&#x27;transform&#x27;,\n",
              "                 ColumnTransformer(transformers=[(&#x27;cat&#x27;, OneHotEncoder(),\n",
              "                                                  [&#x27;sex&#x27;, &#x27;region&#x27;]),\n",
              "                                                 (&#x27;num&#x27;, MinMaxScaler(),\n",
              "                                                  [&#x27;age&#x27;, &#x27;bmi&#x27;, &#x27;children&#x27;,\n",
              "                                                   &#x27;charges&#x27;])])),\n",
              "                (&#x27;mlr&#x27;, LogisticRegression(max_iter=1000))])</pre></div></div></div><div class=\"sk-serial\"><div class=\"sk-item sk-dashed-wrapped\"><div class=\"sk-label-container\"><div class=\"sk-label sk-toggleable\"><input class=\"sk-toggleable__control sk-hidden--visually\" id=\"290e6a55-3aee-44c8-a036-3ffc9d72e014\" type=\"checkbox\" ><label for=\"290e6a55-3aee-44c8-a036-3ffc9d72e014\" class=\"sk-toggleable__label sk-toggleable__label-arrow\">transform: ColumnTransformer</label><div class=\"sk-toggleable__content\"><pre>ColumnTransformer(transformers=[(&#x27;cat&#x27;, OneHotEncoder(), [&#x27;sex&#x27;, &#x27;region&#x27;]),\n",
              "                                (&#x27;num&#x27;, MinMaxScaler(),\n",
              "                                 [&#x27;age&#x27;, &#x27;bmi&#x27;, &#x27;children&#x27;, &#x27;charges&#x27;])])</pre></div></div></div><div class=\"sk-parallel\"><div class=\"sk-parallel-item\"><div class=\"sk-item\"><div class=\"sk-label-container\"><div class=\"sk-label sk-toggleable\"><input class=\"sk-toggleable__control sk-hidden--visually\" id=\"190fca29-17e8-474e-bfed-3c264e6bddbd\" type=\"checkbox\" ><label for=\"190fca29-17e8-474e-bfed-3c264e6bddbd\" class=\"sk-toggleable__label sk-toggleable__label-arrow\">cat</label><div class=\"sk-toggleable__content\"><pre>[&#x27;sex&#x27;, &#x27;region&#x27;]</pre></div></div></div><div class=\"sk-serial\"><div class=\"sk-item\"><div class=\"sk-estimator sk-toggleable\"><input class=\"sk-toggleable__control sk-hidden--visually\" id=\"9cfcd6f8-9b48-43bd-beba-b18874e78adc\" type=\"checkbox\" ><label for=\"9cfcd6f8-9b48-43bd-beba-b18874e78adc\" class=\"sk-toggleable__label sk-toggleable__label-arrow\">OneHotEncoder</label><div class=\"sk-toggleable__content\"><pre>OneHotEncoder()</pre></div></div></div></div></div></div><div class=\"sk-parallel-item\"><div class=\"sk-item\"><div class=\"sk-label-container\"><div class=\"sk-label sk-toggleable\"><input class=\"sk-toggleable__control sk-hidden--visually\" id=\"e6b0b35b-66fe-449a-a653-9e1217294b05\" type=\"checkbox\" ><label for=\"e6b0b35b-66fe-449a-a653-9e1217294b05\" class=\"sk-toggleable__label sk-toggleable__label-arrow\">num</label><div class=\"sk-toggleable__content\"><pre>[&#x27;age&#x27;, &#x27;bmi&#x27;, &#x27;children&#x27;, &#x27;charges&#x27;]</pre></div></div></div><div class=\"sk-serial\"><div class=\"sk-item\"><div class=\"sk-estimator sk-toggleable\"><input class=\"sk-toggleable__control sk-hidden--visually\" id=\"c2603338-b78e-4a73-9cf8-8fc44426df71\" type=\"checkbox\" ><label for=\"c2603338-b78e-4a73-9cf8-8fc44426df71\" class=\"sk-toggleable__label sk-toggleable__label-arrow\">MinMaxScaler</label><div class=\"sk-toggleable__content\"><pre>MinMaxScaler()</pre></div></div></div></div></div></div></div></div><div class=\"sk-item\"><div class=\"sk-estimator sk-toggleable\"><input class=\"sk-toggleable__control sk-hidden--visually\" id=\"5fe00f85-ec85-4ca6-90e7-047efd03a7b8\" type=\"checkbox\" ><label for=\"5fe00f85-ec85-4ca6-90e7-047efd03a7b8\" class=\"sk-toggleable__label sk-toggleable__label-arrow\">LogisticRegression</label><div class=\"sk-toggleable__content\"><pre>LogisticRegression(max_iter=1000)</pre></div></div></div></div></div></div></div>"
            ]
          },
          "metadata": {},
          "execution_count": 937
        }
      ]
    },
    {
      "cell_type": "markdown",
      "source": [
        "###Evaluating the Model"
      ],
      "metadata": {
        "id": "LOP75oluFnqp"
      }
    },
    {
      "cell_type": "code",
      "source": [
        "y_pred=pipeline.predict(X_test)"
      ],
      "metadata": {
        "id": "8HR-Z2IJFjHA"
      },
      "execution_count": null,
      "outputs": []
    },
    {
      "cell_type": "code",
      "source": [
        "plot_cm(y_test,y_pred)"
      ],
      "metadata": {
        "colab": {
          "base_uri": "https://localhost:8080/",
          "height": 606
        },
        "id": "tmhrrTx9FuHG",
        "outputId": "e2c22052-abcf-4a55-bdfc-d889874d656f"
      },
      "execution_count": null,
      "outputs": [
        {
          "output_type": "display_data",
          "data": {
            "text/plain": [
              "<Figure size 720x720 with 2 Axes>"
            ],
            "image/png": "[encoded data removed]"
          },
          "metadata": {
            "needs_background": "light"
          }
        }
      ]
    },
    {
      "cell_type": "code",
      "source": [
        "print(\"recall score:\",recall_score(y_test,y_pred,pos_label=\"yes\"))\n",
        "print(\"precision score:\",precision_score(y_test,y_pred,pos_label=\"yes\"))\n",
        "print(\"f1 score:\",f1_score(y_test,y_pred,pos_label=\"yes\"))"
      ],
      "metadata": {
        "colab": {
          "base_uri": "https://localhost:8080/"
        },
        "id": "lXqR-fd4Gdu1",
        "outputId": "1a9d9506-52f5-4dae-cec9-482644a7e37e"
      },
      "execution_count": null,
      "outputs": [
        {
          "output_type": "stream",
          "name": "stdout",
          "text": [
            "recall score: 0.6363636363636364\n",
            "precision score: 0.8974358974358975\n",
            "f1 score: 0.7446808510638298\n"
          ]
        }
      ]
    },
    {
      "cell_type": "markdown",
      "source": [
        "large class imbalance in dataset so we should use the precision recall curve"
      ],
      "metadata": {
        "id": "LswkdWf9RLuc"
      }
    },
    {
      "cell_type": "code",
      "source": [
        "y_pred_proba=pipeline.predict_proba(X_test)"
      ],
      "metadata": {
        "id": "zMq4sokJZ0xu"
      },
      "execution_count": null,
      "outputs": []
    },
    {
      "cell_type": "code",
      "source": [
        "y_pred_proba=pipeline.predict_proba(X_test)[:,1]"
      ],
      "metadata": {
        "id": "iLFzwZWbRnek"
      },
      "execution_count": null,
      "outputs": []
    },
    {
      "cell_type": "code",
      "source": [
        "lr_precision,lr_recall,_ =precision_recall_curve(y_test,y_pred_proba,pos_label=\"yes\")"
      ],
      "metadata": {
        "id": "JZmKorMfRaYd"
      },
      "execution_count": null,
      "outputs": []
    },
    {
      "cell_type": "code",
      "source": [
        "plt.plot(lr_recall,lr_precision,label=\"Logistic\")\n",
        "plt.xlabel(\"Recall\")\n",
        "plt.ylabel(\"Precision\")\n",
        "plt.legend()"
      ],
      "metadata": {
        "colab": {
          "base_uri": "https://localhost:8080/",
          "height": 296
        },
        "id": "qXy9dRf5SduZ",
        "outputId": "fba1a7d9-f164-462b-955f-33bdfaadcb42"
      },
      "execution_count": null,
      "outputs": [
        {
          "output_type": "execute_result",
          "data": {
            "text/plain": [
              "<matplotlib.legend.Legend at 0x7f07e7feee10>"
            ]
          },
          "metadata": {},
          "execution_count": 944
        },
        {
          "output_type": "display_data",
          "data": {
            "text/plain": [
              "<Figure size 432x288 with 1 Axes>"
            ],
            "image/png": "[encoded data removed]"
          },
          "metadata": {
            "needs_background": "light"
          }
        }
      ]
    },
    {
      "cell_type": "code",
      "source": [
        ""
      ],
      "metadata": {
        "id": "xtBDMj783WFh"
      },
      "execution_count": null,
      "outputs": []
    },
    {
      "cell_type": "code",
      "source": [
        "auc(lr_recall,lr_precision)"
      ],
      "metadata": {
        "colab": {
          "base_uri": "https://localhost:8080/"
        },
        "id": "aF3sXp-yYrTW",
        "outputId": "db94e96f-5f47-4e53-f84e-0604fb9d5cd0"
      },
      "execution_count": null,
      "outputs": [
        {
          "output_type": "execute_result",
          "data": {
            "text/plain": [
              "0.9487676412726944"
            ]
          },
          "metadata": {},
          "execution_count": 945
        }
      ]
    },
    {
      "cell_type": "markdown",
      "source": [
        "###Conclusion"
      ],
      "metadata": {
        "id": "nxSVO-2cb8tL"
      }
    },
    {
      "cell_type": "markdown",
      "source": [
        "The precsision score for the logisitic regression is fairly high at .89, whereas the recall score is .63 which is not great. The AUC measures how well a model is able to distinguish between classes. In this case, how well our model classifies someone as a smoker. 94%  is very good. "
      ],
      "metadata": {
        "id": "3MyzHgo4X6Wc"
      }
    },
    {
      "cell_type": "markdown",
      "source": [
        "Problem 2-Decision Tree"
      ],
      "metadata": {
        "id": "QdENVkUEdB6H"
      }
    },
    {
      "cell_type": "markdown",
      "source": [
        "### Splitting Data into Train/Test"
      ],
      "metadata": {
        "id": "wBMUEvaMN6Mm"
      }
    },
    {
      "cell_type": "markdown",
      "source": [
        "used same data and variables from above "
      ],
      "metadata": {
        "id": "S22fsSOtdLCc"
      }
    },
    {
      "cell_type": "markdown",
      "source": [
        "###Building the Pipeline"
      ],
      "metadata": {
        "id": "7IeVuT5kdMaM"
      }
    },
    {
      "cell_type": "code",
      "source": [
        "pipeline1= Pipeline([\n",
        "    ('transform', col_transform),\n",
        "    ('decision_tree',tree.DecisionTreeClassifier(max_depth=5)),\n",
        "])"
      ],
      "metadata": {
        "id": "5fXGFZaydSpy"
      },
      "execution_count": null,
      "outputs": []
    },
    {
      "cell_type": "markdown",
      "source": [
        "###Executing the Model"
      ],
      "metadata": {
        "id": "EbVf4kPVeZ0C"
      }
    },
    {
      "cell_type": "code",
      "source": [
        "pipeline1.fit(X_train,np.ravel(y_train))"
      ],
      "metadata": {
        "colab": {
          "base_uri": "https://localhost:8080/",
          "height": 192
        },
        "id": "RCbC9I50eY_I",
        "outputId": "e57df13f-5ae5-4c0c-d922-8d9b46c44ca6"
      },
      "execution_count": null,
      "outputs": [
        {
          "output_type": "execute_result",
          "data": {
            "text/plain": [
              "Pipeline(steps=[('transform',\n",
              "                 ColumnTransformer(transformers=[('cat', OneHotEncoder(),\n",
              "                                                  ['sex', 'region']),\n",
              "                                                 ('num', MinMaxScaler(),\n",
              "                                                  ['age', 'bmi', 'children',\n",
              "                                                   'charges'])])),\n",
              "                ('decision_tree', DecisionTreeClassifier(max_depth=5))])"
            ],
            "text/html": [
              "<style>#sk-1eefe6fd-27d3-4b54-9aa1-a0fb750d36c0 {color: black;background-color: white;}#sk-1eefe6fd-27d3-4b54-9aa1-a0fb750d36c0 pre{padding: 0;}#sk-1eefe6fd-27d3-4b54-9aa1-a0fb750d36c0 div.sk-toggleable {background-color: white;}#sk-1eefe6fd-27d3-4b54-9aa1-a0fb750d36c0 label.sk-toggleable__label {cursor: pointer;display: block;width: 100%;margin-bottom: 0;padding: 0.3em;box-sizing: border-box;text-align: center;}#sk-1eefe6fd-27d3-4b54-9aa1-a0fb750d36c0 label.sk-toggleable__label-arrow:before {content: \"▸\";float: left;margin-right: 0.25em;color: #696969;}#sk-1eefe6fd-27d3-4b54-9aa1-a0fb750d36c0 label.sk-toggleable__label-arrow:hover:before {color: black;}#sk-1eefe6fd-27d3-4b54-9aa1-a0fb750d36c0 div.sk-estimator:hover label.sk-toggleable__label-arrow:before {color: black;}#sk-1eefe6fd-27d3-4b54-9aa1-a0fb750d36c0 div.sk-toggleable__content {max-height: 0;max-width: 0;overflow: hidden;text-align: left;background-color: #f0f8ff;}#sk-1eefe6fd-27d3-4b54-9aa1-a0fb750d36c0 div.sk-toggleable__content pre {margin: 0.2em;color: black;border-radius: 0.25em;background-color: #f0f8ff;}#sk-1eefe6fd-27d3-4b54-9aa1-a0fb750d36c0 input.sk-toggleable__control:checked~div.sk-toggleable__content {max-height: 200px;max-width: 100%;overflow: auto;}#sk-1eefe6fd-27d3-4b54-9aa1-a0fb750d36c0 input.sk-toggleable__control:checked~label.sk-toggleable__label-arrow:before {content: \"▾\";}#sk-1eefe6fd-27d3-4b54-9aa1-a0fb750d36c0 div.sk-estimator input.sk-toggleable__control:checked~label.sk-toggleable__label {background-color: #d4ebff;}#sk-1eefe6fd-27d3-4b54-9aa1-a0fb750d36c0 div.sk-label input.sk-toggleable__control:checked~label.sk-toggleable__label {background-color: #d4ebff;}#sk-1eefe6fd-27d3-4b54-9aa1-a0fb750d36c0 input.sk-hidden--visually {border: 0;clip: rect(1px 1px 1px 1px);clip: rect(1px, 1px, 1px, 1px);height: 1px;margin: -1px;overflow: hidden;padding: 0;position: absolute;width: 1px;}#sk-1eefe6fd-27d3-4b54-9aa1-a0fb750d36c0 div.sk-estimator {font-family: monospace;background-color: #f0f8ff;border: 1px dotted black;border-radius: 0.25em;box-sizing: border-box;margin-bottom: 0.5em;}#sk-1eefe6fd-27d3-4b54-9aa1-a0fb750d36c0 div.sk-estimator:hover {background-color: #d4ebff;}#sk-1eefe6fd-27d3-4b54-9aa1-a0fb750d36c0 div.sk-parallel-item::after {content: \"\";width: 100%;border-bottom: 1px solid gray;flex-grow: 1;}#sk-1eefe6fd-27d3-4b54-9aa1-a0fb750d36c0 div.sk-label:hover label.sk-toggleable__label {background-color: #d4ebff;}#sk-1eefe6fd-27d3-4b54-9aa1-a0fb750d36c0 div.sk-serial::before {content: \"\";position: absolute;border-left: 1px solid gray;box-sizing: border-box;top: 2em;bottom: 0;left: 50%;}#sk-1eefe6fd-27d3-4b54-9aa1-a0fb750d36c0 div.sk-serial {display: flex;flex-direction: column;align-items: center;background-color: white;padding-right: 0.2em;padding-left: 0.2em;}#sk-1eefe6fd-27d3-4b54-9aa1-a0fb750d36c0 div.sk-item {z-index: 1;}#sk-1eefe6fd-27d3-4b54-9aa1-a0fb750d36c0 div.sk-parallel {display: flex;align-items: stretch;justify-content: center;background-color: white;}#sk-1eefe6fd-27d3-4b54-9aa1-a0fb750d36c0 div.sk-parallel::before {content: \"\";position: absolute;border-left: 1px solid gray;box-sizing: border-box;top: 2em;bottom: 0;left: 50%;}#sk-1eefe6fd-27d3-4b54-9aa1-a0fb750d36c0 div.sk-parallel-item {display: flex;flex-direction: column;position: relative;background-color: white;}#sk-1eefe6fd-27d3-4b54-9aa1-a0fb750d36c0 div.sk-parallel-item:first-child::after {align-self: flex-end;width: 50%;}#sk-1eefe6fd-27d3-4b54-9aa1-a0fb750d36c0 div.sk-parallel-item:last-child::after {align-self: flex-start;width: 50%;}#sk-1eefe6fd-27d3-4b54-9aa1-a0fb750d36c0 div.sk-parallel-item:only-child::after {width: 0;}#sk-1eefe6fd-27d3-4b54-9aa1-a0fb750d36c0 div.sk-dashed-wrapped {border: 1px dashed gray;margin: 0 0.4em 0.5em 0.4em;box-sizing: border-box;padding-bottom: 0.4em;background-color: white;position: relative;}#sk-1eefe6fd-27d3-4b54-9aa1-a0fb750d36c0 div.sk-label label {font-family: monospace;font-weight: bold;background-color: white;display: inline-block;line-height: 1.2em;}#sk-1eefe6fd-27d3-4b54-9aa1-a0fb750d36c0 div.sk-label-container {position: relative;z-index: 2;text-align: center;}#sk-1eefe6fd-27d3-4b54-9aa1-a0fb750d36c0 div.sk-container {/* jupyter's `normalize.less` sets `[hidden] { display: none; }` but bootstrap.min.css set `[hidden] { display: none !important; }` so we also need the `!important` here to be able to override the default hidden behavior on the sphinx rendered scikit-learn.org. See: https://github.com/scikit-learn/scikit-learn/issues/21755 */display: inline-block !important;position: relative;}#sk-1eefe6fd-27d3-4b54-9aa1-a0fb750d36c0 div.sk-text-repr-fallback {display: none;}</style><div id=\"sk-1eefe6fd-27d3-4b54-9aa1-a0fb750d36c0\" class=\"sk-top-container\"><div class=\"sk-text-repr-fallback\"><pre>Pipeline(steps=[(&#x27;transform&#x27;,\n",
              "                 ColumnTransformer(transformers=[(&#x27;cat&#x27;, OneHotEncoder(),\n",
              "                                                  [&#x27;sex&#x27;, &#x27;region&#x27;]),\n",
              "                                                 (&#x27;num&#x27;, MinMaxScaler(),\n",
              "                                                  [&#x27;age&#x27;, &#x27;bmi&#x27;, &#x27;children&#x27;,\n",
              "                                                   &#x27;charges&#x27;])])),\n",
              "                (&#x27;decision_tree&#x27;, DecisionTreeClassifier(max_depth=5))])</pre><b>Please rerun this cell to show the HTML repr or trust the notebook.</b></div><div class=\"sk-container\" hidden><div class=\"sk-item sk-dashed-wrapped\"><div class=\"sk-label-container\"><div class=\"sk-label sk-toggleable\"><input class=\"sk-toggleable__control sk-hidden--visually\" id=\"e5f8f8ed-84c9-4499-b0f7-bf87f6993406\" type=\"checkbox\" ><label for=\"e5f8f8ed-84c9-4499-b0f7-bf87f6993406\" class=\"sk-toggleable__label sk-toggleable__label-arrow\">Pipeline</label><div class=\"sk-toggleable__content\"><pre>Pipeline(steps=[(&#x27;transform&#x27;,\n",
              "                 ColumnTransformer(transformers=[(&#x27;cat&#x27;, OneHotEncoder(),\n",
              "                                                  [&#x27;sex&#x27;, &#x27;region&#x27;]),\n",
              "                                                 (&#x27;num&#x27;, MinMaxScaler(),\n",
              "                                                  [&#x27;age&#x27;, &#x27;bmi&#x27;, &#x27;children&#x27;,\n",
              "                                                   &#x27;charges&#x27;])])),\n",
              "                (&#x27;decision_tree&#x27;, DecisionTreeClassifier(max_depth=5))])</pre></div></div></div><div class=\"sk-serial\"><div class=\"sk-item sk-dashed-wrapped\"><div class=\"sk-label-container\"><div class=\"sk-label sk-toggleable\"><input class=\"sk-toggleable__control sk-hidden--visually\" id=\"fc7e1284-2f7b-429a-b3bb-dc243c6e0d0a\" type=\"checkbox\" ><label for=\"fc7e1284-2f7b-429a-b3bb-dc243c6e0d0a\" class=\"sk-toggleable__label sk-toggleable__label-arrow\">transform: ColumnTransformer</label><div class=\"sk-toggleable__content\"><pre>ColumnTransformer(transformers=[(&#x27;cat&#x27;, OneHotEncoder(), [&#x27;sex&#x27;, &#x27;region&#x27;]),\n",
              "                                (&#x27;num&#x27;, MinMaxScaler(),\n",
              "                                 [&#x27;age&#x27;, &#x27;bmi&#x27;, &#x27;children&#x27;, &#x27;charges&#x27;])])</pre></div></div></div><div class=\"sk-parallel\"><div class=\"sk-parallel-item\"><div class=\"sk-item\"><div class=\"sk-label-container\"><div class=\"sk-label sk-toggleable\"><input class=\"sk-toggleable__control sk-hidden--visually\" id=\"9cf01341-3a8e-4814-9f7c-478c043882ec\" type=\"checkbox\" ><label for=\"9cf01341-3a8e-4814-9f7c-478c043882ec\" class=\"sk-toggleable__label sk-toggleable__label-arrow\">cat</label><div class=\"sk-toggleable__content\"><pre>[&#x27;sex&#x27;, &#x27;region&#x27;]</pre></div></div></div><div class=\"sk-serial\"><div class=\"sk-item\"><div class=\"sk-estimator sk-toggleable\"><input class=\"sk-toggleable__control sk-hidden--visually\" id=\"adf76a42-2e95-4dcd-b187-9294d95d9dee\" type=\"checkbox\" ><label for=\"adf76a42-2e95-4dcd-b187-9294d95d9dee\" class=\"sk-toggleable__label sk-toggleable__label-arrow\">OneHotEncoder</label><div class=\"sk-toggleable__content\"><pre>OneHotEncoder()</pre></div></div></div></div></div></div><div class=\"sk-parallel-item\"><div class=\"sk-item\"><div class=\"sk-label-container\"><div class=\"sk-label sk-toggleable\"><input class=\"sk-toggleable__control sk-hidden--visually\" id=\"625a53cb-9c10-44f5-96c9-abecb424f139\" type=\"checkbox\" ><label for=\"625a53cb-9c10-44f5-96c9-abecb424f139\" class=\"sk-toggleable__label sk-toggleable__label-arrow\">num</label><div class=\"sk-toggleable__content\"><pre>[&#x27;age&#x27;, &#x27;bmi&#x27;, &#x27;children&#x27;, &#x27;charges&#x27;]</pre></div></div></div><div class=\"sk-serial\"><div class=\"sk-item\"><div class=\"sk-estimator sk-toggleable\"><input class=\"sk-toggleable__control sk-hidden--visually\" id=\"164835a2-9904-457e-bf98-21e0123628d1\" type=\"checkbox\" ><label for=\"164835a2-9904-457e-bf98-21e0123628d1\" class=\"sk-toggleable__label sk-toggleable__label-arrow\">MinMaxScaler</label><div class=\"sk-toggleable__content\"><pre>MinMaxScaler()</pre></div></div></div></div></div></div></div></div><div class=\"sk-item\"><div class=\"sk-estimator sk-toggleable\"><input class=\"sk-toggleable__control sk-hidden--visually\" id=\"30cb224d-72d1-4075-8be2-00c2c71fbb28\" type=\"checkbox\" ><label for=\"30cb224d-72d1-4075-8be2-00c2c71fbb28\" class=\"sk-toggleable__label sk-toggleable__label-arrow\">DecisionTreeClassifier</label><div class=\"sk-toggleable__content\"><pre>DecisionTreeClassifier(max_depth=5)</pre></div></div></div></div></div></div></div>"
            ]
          },
          "metadata": {},
          "execution_count": 947
        }
      ]
    },
    {
      "cell_type": "markdown",
      "source": [
        "###Evaluating the Model"
      ],
      "metadata": {
        "id": "837njkt3e06S"
      }
    },
    {
      "cell_type": "code",
      "source": [
        "y_pred=pipeline1.predict(X_test)"
      ],
      "metadata": {
        "id": "Xuc-GXTJw19b"
      },
      "execution_count": null,
      "outputs": []
    },
    {
      "cell_type": "code",
      "source": [
        "plot_cm(y_test,y_pred)"
      ],
      "metadata": {
        "colab": {
          "base_uri": "https://localhost:8080/",
          "height": 606
        },
        "id": "K2m-tFXNelAp",
        "outputId": "5682669f-cd1f-45d3-d0bb-9553fb452bf0"
      },
      "execution_count": null,
      "outputs": [
        {
          "output_type": "display_data",
          "data": {
            "text/plain": [
              "<Figure size 720x720 with 2 Axes>"
            ],
            "image/png": "[encoded data removed]"
          },
          "metadata": {
            "needs_background": "light"
          }
        }
      ]
    },
    {
      "cell_type": "code",
      "source": [
        "param_grid= {'decision_tree__criterion': ['gini','entropy'],'decision_tree__max_depth':[5,10,15,20]}"
      ],
      "metadata": {
        "id": "5nZgc7w6gyV_"
      },
      "execution_count": null,
      "outputs": []
    },
    {
      "cell_type": "code",
      "source": [
        "grid_pipeline=GridSearchCV(pipeline1,param_grid)"
      ],
      "metadata": {
        "id": "xO-ALc5LhRD1"
      },
      "execution_count": null,
      "outputs": []
    },
    {
      "cell_type": "code",
      "source": [
        "grid_pipeline.fit(X_train,y_train)"
      ],
      "metadata": {
        "colab": {
          "base_uri": "https://localhost:8080/",
          "height": 193
        },
        "id": "flF-XGuHhZOv",
        "outputId": "047c7c07-4ac7-4c15-b182-e0f8bcb446e7"
      },
      "execution_count": null,
      "outputs": [
        {
          "output_type": "execute_result",
          "data": {
            "text/plain": [
              "GridSearchCV(estimator=Pipeline(steps=[('transform',\n",
              "                                        ColumnTransformer(transformers=[('cat',\n",
              "                                                                         OneHotEncoder(),\n",
              "                                                                         ['sex',\n",
              "                                                                          'region']),\n",
              "                                                                        ('num',\n",
              "                                                                         MinMaxScaler(),\n",
              "                                                                         ['age',\n",
              "                                                                          'bmi',\n",
              "                                                                          'children',\n",
              "                                                                          'charges'])])),\n",
              "                                       ('decision_tree',\n",
              "                                        DecisionTreeClassifier(max_depth=5))]),\n",
              "             param_grid={'decision_tree__criterion': ['gini', 'entropy'],\n",
              "                         'decision_tree__max_depth': [5, 10, 15, 20]})"
            ],
            "text/html": [
              "<style>#sk-8b6f7c6a-d88e-4bde-9069-c0175b1af3ac {color: black;background-color: white;}#sk-8b6f7c6a-d88e-4bde-9069-c0175b1af3ac pre{padding: 0;}#sk-8b6f7c6a-d88e-4bde-9069-c0175b1af3ac div.sk-toggleable {background-color: white;}#sk-8b6f7c6a-d88e-4bde-9069-c0175b1af3ac label.sk-toggleable__label {cursor: pointer;display: block;width: 100%;margin-bottom: 0;padding: 0.3em;box-sizing: border-box;text-align: center;}#sk-8b6f7c6a-d88e-4bde-9069-c0175b1af3ac label.sk-toggleable__label-arrow:before {content: \"▸\";float: left;margin-right: 0.25em;color: #696969;}#sk-8b6f7c6a-d88e-4bde-9069-c0175b1af3ac label.sk-toggleable__label-arrow:hover:before {color: black;}#sk-8b6f7c6a-d88e-4bde-9069-c0175b1af3ac div.sk-estimator:hover label.sk-toggleable__label-arrow:before {color: black;}#sk-8b6f7c6a-d88e-4bde-9069-c0175b1af3ac div.sk-toggleable__content {max-height: 0;max-width: 0;overflow: hidden;text-align: left;background-color: #f0f8ff;}#sk-8b6f7c6a-d88e-4bde-9069-c0175b1af3ac div.sk-toggleable__content pre {margin: 0.2em;color: black;border-radius: 0.25em;background-color: #f0f8ff;}#sk-8b6f7c6a-d88e-4bde-9069-c0175b1af3ac input.sk-toggleable__control:checked~div.sk-toggleable__content {max-height: 200px;max-width: 100%;overflow: auto;}#sk-8b6f7c6a-d88e-4bde-9069-c0175b1af3ac input.sk-toggleable__control:checked~label.sk-toggleable__label-arrow:before {content: \"▾\";}#sk-8b6f7c6a-d88e-4bde-9069-c0175b1af3ac div.sk-estimator input.sk-toggleable__control:checked~label.sk-toggleable__label {background-color: #d4ebff;}#sk-8b6f7c6a-d88e-4bde-9069-c0175b1af3ac div.sk-label input.sk-toggleable__control:checked~label.sk-toggleable__label {background-color: #d4ebff;}#sk-8b6f7c6a-d88e-4bde-9069-c0175b1af3ac input.sk-hidden--visually {border: 0;clip: rect(1px 1px 1px 1px);clip: rect(1px, 1px, 1px, 1px);height: 1px;margin: -1px;overflow: hidden;padding: 0;position: absolute;width: 1px;}#sk-8b6f7c6a-d88e-4bde-9069-c0175b1af3ac div.sk-estimator {font-family: monospace;background-color: #f0f8ff;border: 1px dotted black;border-radius: 0.25em;box-sizing: border-box;margin-bottom: 0.5em;}#sk-8b6f7c6a-d88e-4bde-9069-c0175b1af3ac div.sk-estimator:hover {background-color: #d4ebff;}#sk-8b6f7c6a-d88e-4bde-9069-c0175b1af3ac div.sk-parallel-item::after {content: \"\";width: 100%;border-bottom: 1px solid gray;flex-grow: 1;}#sk-8b6f7c6a-d88e-4bde-9069-c0175b1af3ac div.sk-label:hover label.sk-toggleable__label {background-color: #d4ebff;}#sk-8b6f7c6a-d88e-4bde-9069-c0175b1af3ac div.sk-serial::before {content: \"\";position: absolute;border-left: 1px solid gray;box-sizing: border-box;top: 2em;bottom: 0;left: 50%;}#sk-8b6f7c6a-d88e-4bde-9069-c0175b1af3ac div.sk-serial {display: flex;flex-direction: column;align-items: center;background-color: white;padding-right: 0.2em;padding-left: 0.2em;}#sk-8b6f7c6a-d88e-4bde-9069-c0175b1af3ac div.sk-item {z-index: 1;}#sk-8b6f7c6a-d88e-4bde-9069-c0175b1af3ac div.sk-parallel {display: flex;align-items: stretch;justify-content: center;background-color: white;}#sk-8b6f7c6a-d88e-4bde-9069-c0175b1af3ac div.sk-parallel::before {content: \"\";position: absolute;border-left: 1px solid gray;box-sizing: border-box;top: 2em;bottom: 0;left: 50%;}#sk-8b6f7c6a-d88e-4bde-9069-c0175b1af3ac div.sk-parallel-item {display: flex;flex-direction: column;position: relative;background-color: white;}#sk-8b6f7c6a-d88e-4bde-9069-c0175b1af3ac div.sk-parallel-item:first-child::after {align-self: flex-end;width: 50%;}#sk-8b6f7c6a-d88e-4bde-9069-c0175b1af3ac div.sk-parallel-item:last-child::after {align-self: flex-start;width: 50%;}#sk-8b6f7c6a-d88e-4bde-9069-c0175b1af3ac div.sk-parallel-item:only-child::after {width: 0;}#sk-8b6f7c6a-d88e-4bde-9069-c0175b1af3ac div.sk-dashed-wrapped {border: 1px dashed gray;margin: 0 0.4em 0.5em 0.4em;box-sizing: border-box;padding-bottom: 0.4em;background-color: white;position: relative;}#sk-8b6f7c6a-d88e-4bde-9069-c0175b1af3ac div.sk-label label {font-family: monospace;font-weight: bold;background-color: white;display: inline-block;line-height: 1.2em;}#sk-8b6f7c6a-d88e-4bde-9069-c0175b1af3ac div.sk-label-container {position: relative;z-index: 2;text-align: center;}#sk-8b6f7c6a-d88e-4bde-9069-c0175b1af3ac div.sk-container {/* jupyter's `normalize.less` sets `[hidden] { display: none; }` but bootstrap.min.css set `[hidden] { display: none !important; }` so we also need the `!important` here to be able to override the default hidden behavior on the sphinx rendered scikit-learn.org. See: https://github.com/scikit-learn/scikit-learn/issues/21755 */display: inline-block !important;position: relative;}#sk-8b6f7c6a-d88e-4bde-9069-c0175b1af3ac div.sk-text-repr-fallback {display: none;}</style><div id=\"sk-8b6f7c6a-d88e-4bde-9069-c0175b1af3ac\" class=\"sk-top-container\"><div class=\"sk-text-repr-fallback\"><pre>GridSearchCV(estimator=Pipeline(steps=[(&#x27;transform&#x27;,\n",
              "                                        ColumnTransformer(transformers=[(&#x27;cat&#x27;,\n",
              "                                                                         OneHotEncoder(),\n",
              "                                                                         [&#x27;sex&#x27;,\n",
              "                                                                          &#x27;region&#x27;]),\n",
              "                                                                        (&#x27;num&#x27;,\n",
              "                                                                         MinMaxScaler(),\n",
              "                                                                         [&#x27;age&#x27;,\n",
              "                                                                          &#x27;bmi&#x27;,\n",
              "                                                                          &#x27;children&#x27;,\n",
              "                                                                          &#x27;charges&#x27;])])),\n",
              "                                       (&#x27;decision_tree&#x27;,\n",
              "                                        DecisionTreeClassifier(max_depth=5))]),\n",
              "             param_grid={&#x27;decision_tree__criterion&#x27;: [&#x27;gini&#x27;, &#x27;entropy&#x27;],\n",
              "                         &#x27;decision_tree__max_depth&#x27;: [5, 10, 15, 20]})</pre><b>Please rerun this cell to show the HTML repr or trust the notebook.</b></div><div class=\"sk-container\" hidden><div class=\"sk-item sk-dashed-wrapped\"><div class=\"sk-label-container\"><div class=\"sk-label sk-toggleable\"><input class=\"sk-toggleable__control sk-hidden--visually\" id=\"8e5dc9a2-a778-4821-a2ae-04fffbaac0f4\" type=\"checkbox\" ><label for=\"8e5dc9a2-a778-4821-a2ae-04fffbaac0f4\" class=\"sk-toggleable__label sk-toggleable__label-arrow\">GridSearchCV</label><div class=\"sk-toggleable__content\"><pre>GridSearchCV(estimator=Pipeline(steps=[(&#x27;transform&#x27;,\n",
              "                                        ColumnTransformer(transformers=[(&#x27;cat&#x27;,\n",
              "                                                                         OneHotEncoder(),\n",
              "                                                                         [&#x27;sex&#x27;,\n",
              "                                                                          &#x27;region&#x27;]),\n",
              "                                                                        (&#x27;num&#x27;,\n",
              "                                                                         MinMaxScaler(),\n",
              "                                                                         [&#x27;age&#x27;,\n",
              "                                                                          &#x27;bmi&#x27;,\n",
              "                                                                          &#x27;children&#x27;,\n",
              "                                                                          &#x27;charges&#x27;])])),\n",
              "                                       (&#x27;decision_tree&#x27;,\n",
              "                                        DecisionTreeClassifier(max_depth=5))]),\n",
              "             param_grid={&#x27;decision_tree__criterion&#x27;: [&#x27;gini&#x27;, &#x27;entropy&#x27;],\n",
              "                         &#x27;decision_tree__max_depth&#x27;: [5, 10, 15, 20]})</pre></div></div></div><div class=\"sk-parallel\"><div class=\"sk-parallel-item\"><div class=\"sk-item\"><div class=\"sk-serial\"><div class=\"sk-item\"><div class=\"sk-serial\"><div class=\"sk-item sk-dashed-wrapped\"><div class=\"sk-label-container\"><div class=\"sk-label sk-toggleable\"><input class=\"sk-toggleable__control sk-hidden--visually\" id=\"414bfff2-df94-4f0e-aa05-827ad8feebbb\" type=\"checkbox\" ><label for=\"414bfff2-df94-4f0e-aa05-827ad8feebbb\" class=\"sk-toggleable__label sk-toggleable__label-arrow\">transform: ColumnTransformer</label><div class=\"sk-toggleable__content\"><pre>ColumnTransformer(transformers=[(&#x27;cat&#x27;, OneHotEncoder(), [&#x27;sex&#x27;, &#x27;region&#x27;]),\n",
              "                                (&#x27;num&#x27;, MinMaxScaler(),\n",
              "                                 [&#x27;age&#x27;, &#x27;bmi&#x27;, &#x27;children&#x27;, &#x27;charges&#x27;])])</pre></div></div></div><div class=\"sk-parallel\"><div class=\"sk-parallel-item\"><div class=\"sk-item\"><div class=\"sk-label-container\"><div class=\"sk-label sk-toggleable\"><input class=\"sk-toggleable__control sk-hidden--visually\" id=\"ece109c5-676f-4ee8-a189-786a8e6b5fe8\" type=\"checkbox\" ><label for=\"ece109c5-676f-4ee8-a189-786a8e6b5fe8\" class=\"sk-toggleable__label sk-toggleable__label-arrow\">cat</label><div class=\"sk-toggleable__content\"><pre>[&#x27;sex&#x27;, &#x27;region&#x27;]</pre></div></div></div><div class=\"sk-serial\"><div class=\"sk-item\"><div class=\"sk-estimator sk-toggleable\"><input class=\"sk-toggleable__control sk-hidden--visually\" id=\"45546beb-7c4f-4163-9002-33900c84f450\" type=\"checkbox\" ><label for=\"45546beb-7c4f-4163-9002-33900c84f450\" class=\"sk-toggleable__label sk-toggleable__label-arrow\">OneHotEncoder</label><div class=\"sk-toggleable__content\"><pre>OneHotEncoder()</pre></div></div></div></div></div></div><div class=\"sk-parallel-item\"><div class=\"sk-item\"><div class=\"sk-label-container\"><div class=\"sk-label sk-toggleable\"><input class=\"sk-toggleable__control sk-hidden--visually\" id=\"fa4307b7-695d-4bc4-bb0a-127b10665119\" type=\"checkbox\" ><label for=\"fa4307b7-695d-4bc4-bb0a-127b10665119\" class=\"sk-toggleable__label sk-toggleable__label-arrow\">num</label><div class=\"sk-toggleable__content\"><pre>[&#x27;age&#x27;, &#x27;bmi&#x27;, &#x27;children&#x27;, &#x27;charges&#x27;]</pre></div></div></div><div class=\"sk-serial\"><div class=\"sk-item\"><div class=\"sk-estimator sk-toggleable\"><input class=\"sk-toggleable__control sk-hidden--visually\" id=\"4c998dba-1b21-4e08-ba18-429035810449\" type=\"checkbox\" ><label for=\"4c998dba-1b21-4e08-ba18-429035810449\" class=\"sk-toggleable__label sk-toggleable__label-arrow\">MinMaxScaler</label><div class=\"sk-toggleable__content\"><pre>MinMaxScaler()</pre></div></div></div></div></div></div></div></div><div class=\"sk-item\"><div class=\"sk-estimator sk-toggleable\"><input class=\"sk-toggleable__control sk-hidden--visually\" id=\"d72c1c1f-7412-4822-b36b-8a38c66f3abd\" type=\"checkbox\" ><label for=\"d72c1c1f-7412-4822-b36b-8a38c66f3abd\" class=\"sk-toggleable__label sk-toggleable__label-arrow\">DecisionTreeClassifier</label><div class=\"sk-toggleable__content\"><pre>DecisionTreeClassifier(max_depth=5)</pre></div></div></div></div></div></div></div></div></div></div></div></div>"
            ]
          },
          "metadata": {},
          "execution_count": 952
        }
      ]
    },
    {
      "cell_type": "code",
      "source": [
        "grid_pipeline.best_params_"
      ],
      "metadata": {
        "colab": {
          "base_uri": "https://localhost:8080/"
        },
        "id": "la1-xWRwh-Pa",
        "outputId": "c08704fb-4a97-4951-dd14-3d51d96bfedd"
      },
      "execution_count": null,
      "outputs": [
        {
          "output_type": "execute_result",
          "data": {
            "text/plain": [
              "{'decision_tree__criterion': 'entropy', 'decision_tree__max_depth': 10}"
            ]
          },
          "metadata": {},
          "execution_count": 953
        }
      ]
    },
    {
      "cell_type": "code",
      "source": [
        "\n",
        "pipeline2= Pipeline([\n",
        "    ('transform', col_transform),\n",
        "    ('decision_tree',tree.DecisionTreeClassifier(criterion='entropy',max_depth=5)),\n",
        "])\n"
      ],
      "metadata": {
        "id": "5Za0_TkVzkV1"
      },
      "execution_count": null,
      "outputs": []
    },
    {
      "cell_type": "code",
      "source": [
        "pipeline2.fit(X_train,np.ravel(y_train))"
      ],
      "metadata": {
        "id": "h_Oq_6Xcr2yV",
        "colab": {
          "base_uri": "https://localhost:8080/",
          "height": 192
        },
        "outputId": "aa7e28c0-902d-440f-b2a3-c9a5f0032f25"
      },
      "execution_count": null,
      "outputs": [
        {
          "output_type": "execute_result",
          "data": {
            "text/plain": [
              "Pipeline(steps=[('transform',\n",
              "                 ColumnTransformer(transformers=[('cat', OneHotEncoder(),\n",
              "                                                  ['sex', 'region']),\n",
              "                                                 ('num', MinMaxScaler(),\n",
              "                                                  ['age', 'bmi', 'children',\n",
              "                                                   'charges'])])),\n",
              "                ('decision_tree',\n",
              "                 DecisionTreeClassifier(criterion='entropy', max_depth=5))])"
            ],
            "text/html": [
              "<style>#sk-30affe4a-df60-4b39-afe6-a4e7a89a12ee {color: black;background-color: white;}#sk-30affe4a-df60-4b39-afe6-a4e7a89a12ee pre{padding: 0;}#sk-30affe4a-df60-4b39-afe6-a4e7a89a12ee div.sk-toggleable {background-color: white;}#sk-30affe4a-df60-4b39-afe6-a4e7a89a12ee label.sk-toggleable__label {cursor: pointer;display: block;width: 100%;margin-bottom: 0;padding: 0.3em;box-sizing: border-box;text-align: center;}#sk-30affe4a-df60-4b39-afe6-a4e7a89a12ee label.sk-toggleable__label-arrow:before {content: \"▸\";float: left;margin-right: 0.25em;color: #696969;}#sk-30affe4a-df60-4b39-afe6-a4e7a89a12ee label.sk-toggleable__label-arrow:hover:before {color: black;}#sk-30affe4a-df60-4b39-afe6-a4e7a89a12ee div.sk-estimator:hover label.sk-toggleable__label-arrow:before {color: black;}#sk-30affe4a-df60-4b39-afe6-a4e7a89a12ee div.sk-toggleable__content {max-height: 0;max-width: 0;overflow: hidden;text-align: left;background-color: #f0f8ff;}#sk-30affe4a-df60-4b39-afe6-a4e7a89a12ee div.sk-toggleable__content pre {margin: 0.2em;color: black;border-radius: 0.25em;background-color: #f0f8ff;}#sk-30affe4a-df60-4b39-afe6-a4e7a89a12ee input.sk-toggleable__control:checked~div.sk-toggleable__content {max-height: 200px;max-width: 100%;overflow: auto;}#sk-30affe4a-df60-4b39-afe6-a4e7a89a12ee input.sk-toggleable__control:checked~label.sk-toggleable__label-arrow:before {content: \"▾\";}#sk-30affe4a-df60-4b39-afe6-a4e7a89a12ee div.sk-estimator input.sk-toggleable__control:checked~label.sk-toggleable__label {background-color: #d4ebff;}#sk-30affe4a-df60-4b39-afe6-a4e7a89a12ee div.sk-label input.sk-toggleable__control:checked~label.sk-toggleable__label {background-color: #d4ebff;}#sk-30affe4a-df60-4b39-afe6-a4e7a89a12ee input.sk-hidden--visually {border: 0;clip: rect(1px 1px 1px 1px);clip: rect(1px, 1px, 1px, 1px);height: 1px;margin: -1px;overflow: hidden;padding: 0;position: absolute;width: 1px;}#sk-30affe4a-df60-4b39-afe6-a4e7a89a12ee div.sk-estimator {font-family: monospace;background-color: #f0f8ff;border: 1px dotted black;border-radius: 0.25em;box-sizing: border-box;margin-bottom: 0.5em;}#sk-30affe4a-df60-4b39-afe6-a4e7a89a12ee div.sk-estimator:hover {background-color: #d4ebff;}#sk-30affe4a-df60-4b39-afe6-a4e7a89a12ee div.sk-parallel-item::after {content: \"\";width: 100%;border-bottom: 1px solid gray;flex-grow: 1;}#sk-30affe4a-df60-4b39-afe6-a4e7a89a12ee div.sk-label:hover label.sk-toggleable__label {background-color: #d4ebff;}#sk-30affe4a-df60-4b39-afe6-a4e7a89a12ee div.sk-serial::before {content: \"\";position: absolute;border-left: 1px solid gray;box-sizing: border-box;top: 2em;bottom: 0;left: 50%;}#sk-30affe4a-df60-4b39-afe6-a4e7a89a12ee div.sk-serial {display: flex;flex-direction: column;align-items: center;background-color: white;padding-right: 0.2em;padding-left: 0.2em;}#sk-30affe4a-df60-4b39-afe6-a4e7a89a12ee div.sk-item {z-index: 1;}#sk-30affe4a-df60-4b39-afe6-a4e7a89a12ee div.sk-parallel {display: flex;align-items: stretch;justify-content: center;background-color: white;}#sk-30affe4a-df60-4b39-afe6-a4e7a89a12ee div.sk-parallel::before {content: \"\";position: absolute;border-left: 1px solid gray;box-sizing: border-box;top: 2em;bottom: 0;left: 50%;}#sk-30affe4a-df60-4b39-afe6-a4e7a89a12ee div.sk-parallel-item {display: flex;flex-direction: column;position: relative;background-color: white;}#sk-30affe4a-df60-4b39-afe6-a4e7a89a12ee div.sk-parallel-item:first-child::after {align-self: flex-end;width: 50%;}#sk-30affe4a-df60-4b39-afe6-a4e7a89a12ee div.sk-parallel-item:last-child::after {align-self: flex-start;width: 50%;}#sk-30affe4a-df60-4b39-afe6-a4e7a89a12ee div.sk-parallel-item:only-child::after {width: 0;}#sk-30affe4a-df60-4b39-afe6-a4e7a89a12ee div.sk-dashed-wrapped {border: 1px dashed gray;margin: 0 0.4em 0.5em 0.4em;box-sizing: border-box;padding-bottom: 0.4em;background-color: white;position: relative;}#sk-30affe4a-df60-4b39-afe6-a4e7a89a12ee div.sk-label label {font-family: monospace;font-weight: bold;background-color: white;display: inline-block;line-height: 1.2em;}#sk-30affe4a-df60-4b39-afe6-a4e7a89a12ee div.sk-label-container {position: relative;z-index: 2;text-align: center;}#sk-30affe4a-df60-4b39-afe6-a4e7a89a12ee div.sk-container {/* jupyter's `normalize.less` sets `[hidden] { display: none; }` but bootstrap.min.css set `[hidden] { display: none !important; }` so we also need the `!important` here to be able to override the default hidden behavior on the sphinx rendered scikit-learn.org. See: https://github.com/scikit-learn/scikit-learn/issues/21755 */display: inline-block !important;position: relative;}#sk-30affe4a-df60-4b39-afe6-a4e7a89a12ee div.sk-text-repr-fallback {display: none;}</style><div id=\"sk-30affe4a-df60-4b39-afe6-a4e7a89a12ee\" class=\"sk-top-container\"><div class=\"sk-text-repr-fallback\"><pre>Pipeline(steps=[(&#x27;transform&#x27;,\n",
              "                 ColumnTransformer(transformers=[(&#x27;cat&#x27;, OneHotEncoder(),\n",
              "                                                  [&#x27;sex&#x27;, &#x27;region&#x27;]),\n",
              "                                                 (&#x27;num&#x27;, MinMaxScaler(),\n",
              "                                                  [&#x27;age&#x27;, &#x27;bmi&#x27;, &#x27;children&#x27;,\n",
              "                                                   &#x27;charges&#x27;])])),\n",
              "                (&#x27;decision_tree&#x27;,\n",
              "                 DecisionTreeClassifier(criterion=&#x27;entropy&#x27;, max_depth=5))])</pre><b>Please rerun this cell to show the HTML repr or trust the notebook.</b></div><div class=\"sk-container\" hidden><div class=\"sk-item sk-dashed-wrapped\"><div class=\"sk-label-container\"><div class=\"sk-label sk-toggleable\"><input class=\"sk-toggleable__control sk-hidden--visually\" id=\"d5c73955-9d66-4203-ab2f-cb788ad4247e\" type=\"checkbox\" ><label for=\"d5c73955-9d66-4203-ab2f-cb788ad4247e\" class=\"sk-toggleable__label sk-toggleable__label-arrow\">Pipeline</label><div class=\"sk-toggleable__content\"><pre>Pipeline(steps=[(&#x27;transform&#x27;,\n",
              "                 ColumnTransformer(transformers=[(&#x27;cat&#x27;, OneHotEncoder(),\n",
              "                                                  [&#x27;sex&#x27;, &#x27;region&#x27;]),\n",
              "                                                 (&#x27;num&#x27;, MinMaxScaler(),\n",
              "                                                  [&#x27;age&#x27;, &#x27;bmi&#x27;, &#x27;children&#x27;,\n",
              "                                                   &#x27;charges&#x27;])])),\n",
              "                (&#x27;decision_tree&#x27;,\n",
              "                 DecisionTreeClassifier(criterion=&#x27;entropy&#x27;, max_depth=5))])</pre></div></div></div><div class=\"sk-serial\"><div class=\"sk-item sk-dashed-wrapped\"><div class=\"sk-label-container\"><div class=\"sk-label sk-toggleable\"><input class=\"sk-toggleable__control sk-hidden--visually\" id=\"b59fb696-1b9a-43cf-92c6-f4561ee93a1e\" type=\"checkbox\" ><label for=\"b59fb696-1b9a-43cf-92c6-f4561ee93a1e\" class=\"sk-toggleable__label sk-toggleable__label-arrow\">transform: ColumnTransformer</label><div class=\"sk-toggleable__content\"><pre>ColumnTransformer(transformers=[(&#x27;cat&#x27;, OneHotEncoder(), [&#x27;sex&#x27;, &#x27;region&#x27;]),\n",
              "                                (&#x27;num&#x27;, MinMaxScaler(),\n",
              "                                 [&#x27;age&#x27;, &#x27;bmi&#x27;, &#x27;children&#x27;, &#x27;charges&#x27;])])</pre></div></div></div><div class=\"sk-parallel\"><div class=\"sk-parallel-item\"><div class=\"sk-item\"><div class=\"sk-label-container\"><div class=\"sk-label sk-toggleable\"><input class=\"sk-toggleable__control sk-hidden--visually\" id=\"2cb608f0-f691-4f41-ab74-f2767e0369ed\" type=\"checkbox\" ><label for=\"2cb608f0-f691-4f41-ab74-f2767e0369ed\" class=\"sk-toggleable__label sk-toggleable__label-arrow\">cat</label><div class=\"sk-toggleable__content\"><pre>[&#x27;sex&#x27;, &#x27;region&#x27;]</pre></div></div></div><div class=\"sk-serial\"><div class=\"sk-item\"><div class=\"sk-estimator sk-toggleable\"><input class=\"sk-toggleable__control sk-hidden--visually\" id=\"af3bdd33-04cf-4469-b361-d0bc1366cc60\" type=\"checkbox\" ><label for=\"af3bdd33-04cf-4469-b361-d0bc1366cc60\" class=\"sk-toggleable__label sk-toggleable__label-arrow\">OneHotEncoder</label><div class=\"sk-toggleable__content\"><pre>OneHotEncoder()</pre></div></div></div></div></div></div><div class=\"sk-parallel-item\"><div class=\"sk-item\"><div class=\"sk-label-container\"><div class=\"sk-label sk-toggleable\"><input class=\"sk-toggleable__control sk-hidden--visually\" id=\"6365dfd3-50e8-4a65-a423-842e32e5b03c\" type=\"checkbox\" ><label for=\"6365dfd3-50e8-4a65-a423-842e32e5b03c\" class=\"sk-toggleable__label sk-toggleable__label-arrow\">num</label><div class=\"sk-toggleable__content\"><pre>[&#x27;age&#x27;, &#x27;bmi&#x27;, &#x27;children&#x27;, &#x27;charges&#x27;]</pre></div></div></div><div class=\"sk-serial\"><div class=\"sk-item\"><div class=\"sk-estimator sk-toggleable\"><input class=\"sk-toggleable__control sk-hidden--visually\" id=\"57b94e28-1ff9-4b07-97c6-ad927d05a678\" type=\"checkbox\" ><label for=\"57b94e28-1ff9-4b07-97c6-ad927d05a678\" class=\"sk-toggleable__label sk-toggleable__label-arrow\">MinMaxScaler</label><div class=\"sk-toggleable__content\"><pre>MinMaxScaler()</pre></div></div></div></div></div></div></div></div><div class=\"sk-item\"><div class=\"sk-estimator sk-toggleable\"><input class=\"sk-toggleable__control sk-hidden--visually\" id=\"392c2e6f-adbc-4a19-a9aa-2b2ea8a73dae\" type=\"checkbox\" ><label for=\"392c2e6f-adbc-4a19-a9aa-2b2ea8a73dae\" class=\"sk-toggleable__label sk-toggleable__label-arrow\">DecisionTreeClassifier</label><div class=\"sk-toggleable__content\"><pre>DecisionTreeClassifier(criterion=&#x27;entropy&#x27;, max_depth=5)</pre></div></div></div></div></div></div></div>"
            ]
          },
          "metadata": {},
          "execution_count": 955
        }
      ]
    },
    {
      "cell_type": "markdown",
      "source": [
        "###Evaluating adjusted hyperparameters with Gridsearch"
      ],
      "metadata": {
        "id": "igtIlpCR03G_"
      }
    },
    {
      "cell_type": "code",
      "source": [
        "y_pred=pipeline2.predict(X_test)"
      ],
      "metadata": {
        "id": "fNZi1HFO0zdi"
      },
      "execution_count": null,
      "outputs": []
    },
    {
      "cell_type": "code",
      "source": [
        "plot_cm(y_test,y_pred)"
      ],
      "metadata": {
        "colab": {
          "base_uri": "https://localhost:8080/",
          "height": 606
        },
        "id": "3L9C0Ew11Ard",
        "outputId": "4a89ae10-c7e2-4c46-af2b-3e0fcc2de610"
      },
      "execution_count": null,
      "outputs": [
        {
          "output_type": "display_data",
          "data": {
            "text/plain": [
              "<Figure size 720x720 with 2 Axes>"
            ],
            "image/png": "[encoded data removed]"
          },
          "metadata": {
            "needs_background": "light"
          }
        }
      ]
    },
    {
      "cell_type": "code",
      "source": [
        "print(\"recall score:\",recall_score(y_test,y_pred,pos_label=\"yes\"))\n",
        "print(\"precision score:\",precision_score(y_test,y_pred,pos_label=\"yes\"))\n",
        "print(\"f1 score:\",f1_score(y_test,y_pred,pos_label=\"yes\"))"
      ],
      "metadata": {
        "colab": {
          "base_uri": "https://localhost:8080/"
        },
        "id": "0cZKOxPw2oh3",
        "outputId": "5d249662-5107-4c6d-fb69-d045cc3d3e67"
      },
      "execution_count": null,
      "outputs": [
        {
          "output_type": "stream",
          "name": "stdout",
          "text": [
            "recall score: 0.9454545454545454\n",
            "precision score: 0.8666666666666667\n",
            "f1 score: 0.9043478260869566\n"
          ]
        }
      ]
    },
    {
      "cell_type": "code",
      "source": [
        "y_pred_probadt=pipeline2.predict_proba(X_test)"
      ],
      "metadata": {
        "id": "RynCYnh23F4r"
      },
      "execution_count": null,
      "outputs": []
    },
    {
      "cell_type": "code",
      "source": [
        "y_pred_probadt=pipeline2.predict_proba(X_test)[:,1]"
      ],
      "metadata": {
        "id": "ECmWhpe03JVl"
      },
      "execution_count": null,
      "outputs": []
    },
    {
      "cell_type": "code",
      "source": [
        "dt_precision,dt_recall,_ =precision_recall_curve(y_test,y_pred_probadt,pos_label=\"yes\")"
      ],
      "metadata": {
        "id": "AjJbfcdU3OeH"
      },
      "execution_count": null,
      "outputs": []
    },
    {
      "cell_type": "code",
      "source": [
        "plt.plot(dt_recall,dt_precision,label=\"Decision Tree\")\n",
        "plt.xlabel(\"Recall\")\n",
        "plt.ylabel(\"Precision\")\n",
        "plt.legend()"
      ],
      "metadata": {
        "colab": {
          "base_uri": "https://localhost:8080/",
          "height": 296
        },
        "id": "qiQR7XlY3PwJ",
        "outputId": "b2550ec6-ce16-4005-9e5d-6ae81cb1ca39"
      },
      "execution_count": null,
      "outputs": [
        {
          "output_type": "execute_result",
          "data": {
            "text/plain": [
              "<matplotlib.legend.Legend at 0x7f07e7ddc550>"
            ]
          },
          "metadata": {},
          "execution_count": 962
        },
        {
          "output_type": "display_data",
          "data": {
            "text/plain": [
              "<Figure size 432x288 with 1 Axes>"
            ],
            "image/png": "[encoded data removed]"
          },
          "metadata": {
            "needs_background": "light"
          }
        }
      ]
    },
    {
      "cell_type": "markdown",
      "source": [
        "###Conclusion"
      ],
      "metadata": {
        "id": "q4zHx0Z24r6x"
      }
    },
    {
      "cell_type": "markdown",
      "source": [
        "After running a logistic regression, the next step was to compare it to another classification algorithm ML model. The section above shows the same data set run with decision trees to see the model improves. Turns out once the hyperparameters were properly chosen using a GridSearch pipeline then the model became more accurate in classifying smokers from non-smokers. The recall score was .94 and precision score was .86 making the decision tree model better at predicting non-smokers and smokers than the logisitic regression model. "
      ],
      "metadata": {
        "id": "fhJgqg0Z414A"
      }
    }
  ]
}